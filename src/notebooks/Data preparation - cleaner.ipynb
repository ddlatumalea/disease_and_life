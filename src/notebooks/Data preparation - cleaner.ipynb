{
 "cells": [
  {
   "cell_type": "code",
   "execution_count": 1,
   "id": "1315b210",
   "metadata": {},
   "outputs": [],
   "source": [
    "from pathlib import Path\n",
    "\n",
    "import pandas as pd"
   ]
  },
  {
   "cell_type": "code",
   "execution_count": 2,
   "id": "4a8c861b",
   "metadata": {},
   "outputs": [],
   "source": [
    "# Refactor to config.yaml\n",
    "datadir = Path('../data')"
   ]
  },
  {
   "cell_type": "markdown",
   "id": "05231136",
   "metadata": {},
   "source": [
    "# Life expectancy"
   ]
  },
  {
   "cell_type": "code",
   "execution_count": 3,
   "id": "929e0c8e",
   "metadata": {},
   "outputs": [
    {
     "data": {
      "text/html": [
       "<div>\n",
       "<style scoped>\n",
       "    .dataframe tbody tr th:only-of-type {\n",
       "        vertical-align: middle;\n",
       "    }\n",
       "\n",
       "    .dataframe tbody tr th {\n",
       "        vertical-align: top;\n",
       "    }\n",
       "\n",
       "    .dataframe thead th {\n",
       "        text-align: right;\n",
       "    }\n",
       "</style>\n",
       "<table border=\"1\" class=\"dataframe\">\n",
       "  <thead>\n",
       "    <tr style=\"text-align: right;\">\n",
       "      <th></th>\n",
       "      <th>Year</th>\n",
       "      <th>WHO Region</th>\n",
       "      <th>World Bank Income Group</th>\n",
       "      <th>Country ISO Code</th>\n",
       "      <th>Country</th>\n",
       "      <th>Sex</th>\n",
       "      <th>Global</th>\n",
       "      <th>Value</th>\n",
       "    </tr>\n",
       "  </thead>\n",
       "  <tbody>\n",
       "    <tr>\n",
       "      <th>0</th>\n",
       "      <td>1950</td>\n",
       "      <td>Europe</td>\n",
       "      <td>High income</td>\n",
       "      <td>NLD</td>\n",
       "      <td>Netherlands</td>\n",
       "      <td>Both sexes</td>\n",
       "      <td>NaN</td>\n",
       "      <td>71.411</td>\n",
       "    </tr>\n",
       "    <tr>\n",
       "      <th>1</th>\n",
       "      <td>1950</td>\n",
       "      <td>Europe</td>\n",
       "      <td>High income</td>\n",
       "      <td>NLD</td>\n",
       "      <td>Netherlands</td>\n",
       "      <td>Female</td>\n",
       "      <td>NaN</td>\n",
       "      <td>72.615</td>\n",
       "    </tr>\n",
       "    <tr>\n",
       "      <th>2</th>\n",
       "      <td>1951</td>\n",
       "      <td>Europe</td>\n",
       "      <td>High income</td>\n",
       "      <td>NLD</td>\n",
       "      <td>Netherlands</td>\n",
       "      <td>Both sexes</td>\n",
       "      <td>NaN</td>\n",
       "      <td>71.550</td>\n",
       "    </tr>\n",
       "    <tr>\n",
       "      <th>3</th>\n",
       "      <td>1950</td>\n",
       "      <td>Europe</td>\n",
       "      <td>High income</td>\n",
       "      <td>NLD</td>\n",
       "      <td>Netherlands</td>\n",
       "      <td>Male</td>\n",
       "      <td>NaN</td>\n",
       "      <td>70.236</td>\n",
       "    </tr>\n",
       "    <tr>\n",
       "      <th>4</th>\n",
       "      <td>1951</td>\n",
       "      <td>Europe</td>\n",
       "      <td>High income</td>\n",
       "      <td>NLD</td>\n",
       "      <td>Netherlands</td>\n",
       "      <td>Female</td>\n",
       "      <td>NaN</td>\n",
       "      <td>72.775</td>\n",
       "    </tr>\n",
       "  </tbody>\n",
       "</table>\n",
       "</div>"
      ],
      "text/plain": [
       "   Year WHO Region World Bank Income Group Country ISO Code      Country  \\\n",
       "0  1950     Europe             High income              NLD  Netherlands   \n",
       "1  1950     Europe             High income              NLD  Netherlands   \n",
       "2  1951     Europe             High income              NLD  Netherlands   \n",
       "3  1950     Europe             High income              NLD  Netherlands   \n",
       "4  1951     Europe             High income              NLD  Netherlands   \n",
       "\n",
       "          Sex  Global   Value  \n",
       "0  Both sexes     NaN  71.411  \n",
       "1      Female     NaN  72.615  \n",
       "2  Both sexes     NaN  71.550  \n",
       "3        Male     NaN  70.236  \n",
       "4      Female     NaN  72.775  "
      ]
     },
     "execution_count": 3,
     "metadata": {},
     "output_type": "execute_result"
    }
   ],
   "source": [
    "life_exp = pd.read_excel(Path(datadir, 'life_expectancy_at_birth.xlsx'))\n",
    "life_exp.head()"
   ]
  },
  {
   "cell_type": "code",
   "execution_count": 4,
   "id": "39842165",
   "metadata": {},
   "outputs": [
    {
     "data": {
      "text/html": [
       "<div>\n",
       "<style scoped>\n",
       "    .dataframe tbody tr th:only-of-type {\n",
       "        vertical-align: middle;\n",
       "    }\n",
       "\n",
       "    .dataframe tbody tr th {\n",
       "        vertical-align: top;\n",
       "    }\n",
       "\n",
       "    .dataframe thead th {\n",
       "        text-align: right;\n",
       "    }\n",
       "</style>\n",
       "<table border=\"1\" class=\"dataframe\">\n",
       "  <thead>\n",
       "    <tr style=\"text-align: right;\">\n",
       "      <th></th>\n",
       "      <th>year</th>\n",
       "      <th>who region</th>\n",
       "      <th>world bank income group</th>\n",
       "      <th>country iso code</th>\n",
       "      <th>country</th>\n",
       "      <th>sex</th>\n",
       "      <th>global</th>\n",
       "      <th>value</th>\n",
       "    </tr>\n",
       "  </thead>\n",
       "  <tbody>\n",
       "    <tr>\n",
       "      <th>0</th>\n",
       "      <td>1950</td>\n",
       "      <td>Europe</td>\n",
       "      <td>High income</td>\n",
       "      <td>NLD</td>\n",
       "      <td>Netherlands</td>\n",
       "      <td>Both sexes</td>\n",
       "      <td>NaN</td>\n",
       "      <td>71.411</td>\n",
       "    </tr>\n",
       "  </tbody>\n",
       "</table>\n",
       "</div>"
      ],
      "text/plain": [
       "   year who region world bank income group country iso code      country  \\\n",
       "0  1950     Europe             High income              NLD  Netherlands   \n",
       "\n",
       "          sex  global   value  \n",
       "0  Both sexes     NaN  71.411  "
      ]
     },
     "execution_count": 4,
     "metadata": {},
     "output_type": "execute_result"
    }
   ],
   "source": [
    "# columns lower\n",
    "life_exp.columns = life_exp.columns.str.lower()\n",
    "life_exp.head(1)"
   ]
  },
  {
   "cell_type": "code",
   "execution_count": 25,
   "id": "a402a92c",
   "metadata": {},
   "outputs": [],
   "source": [
    "# sort values on year\n",
    "life_exp = life_exp.sort_values('year')"
   ]
  },
  {
   "cell_type": "code",
   "execution_count": 9,
   "id": "095542cd",
   "metadata": {},
   "outputs": [
    {
     "data": {
      "text/html": [
       "<div>\n",
       "<style scoped>\n",
       "    .dataframe tbody tr th:only-of-type {\n",
       "        vertical-align: middle;\n",
       "    }\n",
       "\n",
       "    .dataframe tbody tr th {\n",
       "        vertical-align: top;\n",
       "    }\n",
       "\n",
       "    .dataframe thead th {\n",
       "        text-align: right;\n",
       "    }\n",
       "</style>\n",
       "<table border=\"1\" class=\"dataframe\">\n",
       "  <thead>\n",
       "    <tr style=\"text-align: right;\">\n",
       "      <th></th>\n",
       "      <th>year</th>\n",
       "      <th>country</th>\n",
       "      <th>sex</th>\n",
       "      <th>value</th>\n",
       "    </tr>\n",
       "  </thead>\n",
       "  <tbody>\n",
       "    <tr>\n",
       "      <th>0</th>\n",
       "      <td>1950</td>\n",
       "      <td>Netherlands</td>\n",
       "      <td>Both sexes</td>\n",
       "      <td>71.411</td>\n",
       "    </tr>\n",
       "  </tbody>\n",
       "</table>\n",
       "</div>"
      ],
      "text/plain": [
       "   year      country         sex   value\n",
       "0  1950  Netherlands  Both sexes  71.411"
      ]
     },
     "execution_count": 9,
     "metadata": {},
     "output_type": "execute_result"
    }
   ],
   "source": [
    "# columns drop\n",
    "to_keep = ['year', 'country', 'sex', 'value']\n",
    "life_exp = life_exp[to_keep]\n",
    "life_exp.head(1)"
   ]
  },
  {
   "cell_type": "code",
   "execution_count": 11,
   "id": "d00ec517",
   "metadata": {},
   "outputs": [
    {
     "data": {
      "text/html": [
       "<div>\n",
       "<style scoped>\n",
       "    .dataframe tbody tr th:only-of-type {\n",
       "        vertical-align: middle;\n",
       "    }\n",
       "\n",
       "    .dataframe tbody tr th {\n",
       "        vertical-align: top;\n",
       "    }\n",
       "\n",
       "    .dataframe thead th {\n",
       "        text-align: right;\n",
       "    }\n",
       "</style>\n",
       "<table border=\"1\" class=\"dataframe\">\n",
       "  <thead>\n",
       "    <tr style=\"text-align: right;\">\n",
       "      <th></th>\n",
       "      <th>year</th>\n",
       "      <th>country</th>\n",
       "      <th>sex</th>\n",
       "      <th>life expectancy (age)</th>\n",
       "    </tr>\n",
       "  </thead>\n",
       "  <tbody>\n",
       "    <tr>\n",
       "      <th>0</th>\n",
       "      <td>1950</td>\n",
       "      <td>Netherlands</td>\n",
       "      <td>Both sexes</td>\n",
       "      <td>71.411</td>\n",
       "    </tr>\n",
       "  </tbody>\n",
       "</table>\n",
       "</div>"
      ],
      "text/plain": [
       "   year      country         sex  life expectancy (age)\n",
       "0  1950  Netherlands  Both sexes                 71.411"
      ]
     },
     "execution_count": 11,
     "metadata": {},
     "output_type": "execute_result"
    }
   ],
   "source": [
    "# rename\n",
    "mapping = {\n",
    "    'value': 'life expectancy (age)'\n",
    "}\n",
    "life_exp = life_exp.rename(columns=mapping)\n",
    "life_exp.head(1)"
   ]
  },
  {
   "cell_type": "code",
   "execution_count": 17,
   "id": "934c9376",
   "metadata": {},
   "outputs": [
    {
     "data": {
      "text/plain": [
       "year                       int64\n",
       "country                   object\n",
       "sex                       object\n",
       "life expectancy (age)    float64\n",
       "dtype: object"
      ]
     },
     "execution_count": 17,
     "metadata": {},
     "output_type": "execute_result"
    }
   ],
   "source": [
    "# dtypes\n",
    "mapping_dtype = {\n",
    "    'year': 'int', \n",
    "    'country': 'str', \n",
    "    'sex': 'str', \n",
    "    'life expectancy (age)': 'float'\n",
    "}\n",
    "life_exp = life_exp.astype(mapping_dtype)\n",
    "life_exp.dtypes"
   ]
  },
  {
   "cell_type": "code",
   "execution_count": 19,
   "id": "64c0fcc8",
   "metadata": {},
   "outputs": [
    {
     "data": {
      "text/plain": [
       "year                     True\n",
       "country                  True\n",
       "sex                      True\n",
       "life expectancy (age)    True\n",
       "dtype: bool"
      ]
     },
     "execution_count": 19,
     "metadata": {},
     "output_type": "execute_result"
    }
   ],
   "source": [
    "# missing values\n",
    "life_exp.isna().sum() == 0"
   ]
  },
  {
   "cell_type": "code",
   "execution_count": 21,
   "id": "6fa2f697",
   "metadata": {},
   "outputs": [],
   "source": [
    "# sex mapping\n",
    "mapping_sex = {\n",
    "    'Male': 1,\n",
    "    'Female': 2,\n",
    "    'Both sexes': 3\n",
    "}\n",
    "\n",
    "def convert_sex(x):\n",
    "    return mapping_sex[x]\n",
    "\n",
    "life_exp['sex'] = life_exp['sex'].apply(convert_sex)"
   ]
  },
  {
   "cell_type": "code",
   "execution_count": 26,
   "id": "060f9c15",
   "metadata": {},
   "outputs": [
    {
     "data": {
      "text/html": [
       "<div>\n",
       "<style scoped>\n",
       "    .dataframe tbody tr th:only-of-type {\n",
       "        vertical-align: middle;\n",
       "    }\n",
       "\n",
       "    .dataframe tbody tr th {\n",
       "        vertical-align: top;\n",
       "    }\n",
       "\n",
       "    .dataframe thead th {\n",
       "        text-align: right;\n",
       "    }\n",
       "</style>\n",
       "<table border=\"1\" class=\"dataframe\">\n",
       "  <thead>\n",
       "    <tr style=\"text-align: right;\">\n",
       "      <th></th>\n",
       "      <th>year</th>\n",
       "      <th>country</th>\n",
       "      <th>sex</th>\n",
       "      <th>life expectancy (age)</th>\n",
       "    </tr>\n",
       "  </thead>\n",
       "  <tbody>\n",
       "    <tr>\n",
       "      <th>0</th>\n",
       "      <td>1950</td>\n",
       "      <td>Netherlands</td>\n",
       "      <td>3</td>\n",
       "      <td>71.411</td>\n",
       "    </tr>\n",
       "    <tr>\n",
       "      <th>1</th>\n",
       "      <td>1950</td>\n",
       "      <td>Netherlands</td>\n",
       "      <td>2</td>\n",
       "      <td>72.615</td>\n",
       "    </tr>\n",
       "    <tr>\n",
       "      <th>3</th>\n",
       "      <td>1950</td>\n",
       "      <td>Netherlands</td>\n",
       "      <td>1</td>\n",
       "      <td>70.236</td>\n",
       "    </tr>\n",
       "    <tr>\n",
       "      <th>2</th>\n",
       "      <td>1951</td>\n",
       "      <td>Netherlands</td>\n",
       "      <td>3</td>\n",
       "      <td>71.550</td>\n",
       "    </tr>\n",
       "    <tr>\n",
       "      <th>4</th>\n",
       "      <td>1951</td>\n",
       "      <td>Netherlands</td>\n",
       "      <td>2</td>\n",
       "      <td>72.775</td>\n",
       "    </tr>\n",
       "  </tbody>\n",
       "</table>\n",
       "</div>"
      ],
      "text/plain": [
       "   year      country  sex  life expectancy (age)\n",
       "0  1950  Netherlands    3                 71.411\n",
       "1  1950  Netherlands    2                 72.615\n",
       "3  1950  Netherlands    1                 70.236\n",
       "2  1951  Netherlands    3                 71.550\n",
       "4  1951  Netherlands    2                 72.775"
      ]
     },
     "execution_count": 26,
     "metadata": {},
     "output_type": "execute_result"
    }
   ],
   "source": [
    "life_exp.head(5)"
   ]
  },
  {
   "cell_type": "markdown",
   "id": "c870a91a",
   "metadata": {},
   "source": [
    "# Country codes"
   ]
  },
  {
   "cell_type": "code",
   "execution_count": 27,
   "id": "8af6f8a5",
   "metadata": {},
   "outputs": [
    {
     "data": {
      "text/html": [
       "<div>\n",
       "<style scoped>\n",
       "    .dataframe tbody tr th:only-of-type {\n",
       "        vertical-align: middle;\n",
       "    }\n",
       "\n",
       "    .dataframe tbody tr th {\n",
       "        vertical-align: top;\n",
       "    }\n",
       "\n",
       "    .dataframe thead th {\n",
       "        text-align: right;\n",
       "    }\n",
       "</style>\n",
       "<table border=\"1\" class=\"dataframe\">\n",
       "  <thead>\n",
       "    <tr style=\"text-align: right;\">\n",
       "      <th></th>\n",
       "      <th>country</th>\n",
       "      <th>name</th>\n",
       "    </tr>\n",
       "  </thead>\n",
       "  <tbody>\n",
       "    <tr>\n",
       "      <th>0</th>\n",
       "      <td>1010</td>\n",
       "      <td>Algeria</td>\n",
       "    </tr>\n",
       "  </tbody>\n",
       "</table>\n",
       "</div>"
      ],
      "text/plain": [
       "   country     name\n",
       "0     1010  Algeria"
      ]
     },
     "execution_count": 27,
     "metadata": {},
     "output_type": "execute_result"
    }
   ],
   "source": [
    "country_codes = pd.read_csv(Path(datadir, 'country_codes'))\n",
    "country_codes.head(1)"
   ]
  },
  {
   "cell_type": "code",
   "execution_count": 28,
   "id": "3dc9e7df",
   "metadata": {},
   "outputs": [],
   "source": [
    "# to lowercase column"
   ]
  },
  {
   "cell_type": "code",
   "execution_count": 29,
   "id": "2b39fe96",
   "metadata": {},
   "outputs": [
    {
     "data": {
      "text/plain": [
       "country    0\n",
       "name       0\n",
       "dtype: int64"
      ]
     },
     "execution_count": 29,
     "metadata": {},
     "output_type": "execute_result"
    }
   ],
   "source": [
    "country_codes.isna().sum()"
   ]
  },
  {
   "cell_type": "code",
   "execution_count": 30,
   "id": "a8eb13b4",
   "metadata": {},
   "outputs": [
    {
     "data": {
      "text/plain": [
       "country     int64\n",
       "name       object\n",
       "dtype: object"
      ]
     },
     "execution_count": 30,
     "metadata": {},
     "output_type": "execute_result"
    }
   ],
   "source": [
    "country_codes.dtypes"
   ]
  },
  {
   "cell_type": "markdown",
   "id": "23b32c19",
   "metadata": {},
   "source": [
    "# Population"
   ]
  },
  {
   "cell_type": "code",
   "execution_count": 45,
   "id": "be020d2b",
   "metadata": {},
   "outputs": [
    {
     "data": {
      "text/html": [
       "<div>\n",
       "<style scoped>\n",
       "    .dataframe tbody tr th:only-of-type {\n",
       "        vertical-align: middle;\n",
       "    }\n",
       "\n",
       "    .dataframe tbody tr th {\n",
       "        vertical-align: top;\n",
       "    }\n",
       "\n",
       "    .dataframe thead th {\n",
       "        text-align: right;\n",
       "    }\n",
       "</style>\n",
       "<table border=\"1\" class=\"dataframe\">\n",
       "  <thead>\n",
       "    <tr style=\"text-align: right;\">\n",
       "      <th></th>\n",
       "      <th>Country</th>\n",
       "      <th>Admin1</th>\n",
       "      <th>SubDiv</th>\n",
       "      <th>Year</th>\n",
       "      <th>Sex</th>\n",
       "      <th>Frmat</th>\n",
       "      <th>Pop1</th>\n",
       "      <th>Pop2</th>\n",
       "      <th>Pop3</th>\n",
       "      <th>Pop4</th>\n",
       "      <th>...</th>\n",
       "      <th>Pop18</th>\n",
       "      <th>Pop19</th>\n",
       "      <th>Pop20</th>\n",
       "      <th>Pop21</th>\n",
       "      <th>Pop22</th>\n",
       "      <th>Pop23</th>\n",
       "      <th>Pop24</th>\n",
       "      <th>Pop25</th>\n",
       "      <th>Pop26</th>\n",
       "      <th>Lb</th>\n",
       "    </tr>\n",
       "  </thead>\n",
       "  <tbody>\n",
       "    <tr>\n",
       "      <th>0</th>\n",
       "      <td>1060</td>\n",
       "      <td>NaN</td>\n",
       "      <td>NaN</td>\n",
       "      <td>1980</td>\n",
       "      <td>1</td>\n",
       "      <td>7</td>\n",
       "      <td>137100.0</td>\n",
       "      <td>3400.0</td>\n",
       "      <td>15800.0</td>\n",
       "      <td>NaN</td>\n",
       "      <td>...</td>\n",
       "      <td>NaN</td>\n",
       "      <td>5300.0</td>\n",
       "      <td>NaN</td>\n",
       "      <td>2900.0</td>\n",
       "      <td>NaN</td>\n",
       "      <td>NaN</td>\n",
       "      <td>NaN</td>\n",
       "      <td>NaN</td>\n",
       "      <td>6500.0</td>\n",
       "      <td>5000.0</td>\n",
       "    </tr>\n",
       "    <tr>\n",
       "      <th>1</th>\n",
       "      <td>1060</td>\n",
       "      <td>NaN</td>\n",
       "      <td>NaN</td>\n",
       "      <td>1980</td>\n",
       "      <td>2</td>\n",
       "      <td>7</td>\n",
       "      <td>159000.0</td>\n",
       "      <td>4000.0</td>\n",
       "      <td>18400.0</td>\n",
       "      <td>NaN</td>\n",
       "      <td>...</td>\n",
       "      <td>NaN</td>\n",
       "      <td>6200.0</td>\n",
       "      <td>NaN</td>\n",
       "      <td>3400.0</td>\n",
       "      <td>NaN</td>\n",
       "      <td>NaN</td>\n",
       "      <td>NaN</td>\n",
       "      <td>NaN</td>\n",
       "      <td>7500.0</td>\n",
       "      <td>6000.0</td>\n",
       "    </tr>\n",
       "    <tr>\n",
       "      <th>2</th>\n",
       "      <td>1125</td>\n",
       "      <td>NaN</td>\n",
       "      <td>NaN</td>\n",
       "      <td>1955</td>\n",
       "      <td>1</td>\n",
       "      <td>2</td>\n",
       "      <td>5051500.0</td>\n",
       "      <td>150300.0</td>\n",
       "      <td>543400.0</td>\n",
       "      <td>NaN</td>\n",
       "      <td>...</td>\n",
       "      <td>110200.0</td>\n",
       "      <td>51100.0</td>\n",
       "      <td>41600.0</td>\n",
       "      <td>14300.0</td>\n",
       "      <td>11800.0</td>\n",
       "      <td>25300.0</td>\n",
       "      <td>NaN</td>\n",
       "      <td>NaN</td>\n",
       "      <td>0.0</td>\n",
       "      <td>253329.0</td>\n",
       "    </tr>\n",
       "    <tr>\n",
       "      <th>3</th>\n",
       "      <td>1125</td>\n",
       "      <td>NaN</td>\n",
       "      <td>NaN</td>\n",
       "      <td>1955</td>\n",
       "      <td>2</td>\n",
       "      <td>2</td>\n",
       "      <td>5049400.0</td>\n",
       "      <td>145200.0</td>\n",
       "      <td>551000.0</td>\n",
       "      <td>NaN</td>\n",
       "      <td>...</td>\n",
       "      <td>122100.0</td>\n",
       "      <td>51100.0</td>\n",
       "      <td>50700.0</td>\n",
       "      <td>15800.0</td>\n",
       "      <td>18000.0</td>\n",
       "      <td>28500.0</td>\n",
       "      <td>NaN</td>\n",
       "      <td>NaN</td>\n",
       "      <td>0.0</td>\n",
       "      <td>237901.0</td>\n",
       "    </tr>\n",
       "    <tr>\n",
       "      <th>4</th>\n",
       "      <td>1125</td>\n",
       "      <td>NaN</td>\n",
       "      <td>NaN</td>\n",
       "      <td>1956</td>\n",
       "      <td>1</td>\n",
       "      <td>2</td>\n",
       "      <td>5353700.0</td>\n",
       "      <td>158700.0</td>\n",
       "      <td>576600.0</td>\n",
       "      <td>NaN</td>\n",
       "      <td>...</td>\n",
       "      <td>116900.0</td>\n",
       "      <td>54100.0</td>\n",
       "      <td>44000.0</td>\n",
       "      <td>14900.0</td>\n",
       "      <td>12400.0</td>\n",
       "      <td>26600.0</td>\n",
       "      <td>NaN</td>\n",
       "      <td>NaN</td>\n",
       "      <td>0.0</td>\n",
       "      <td>250022.0</td>\n",
       "    </tr>\n",
       "  </tbody>\n",
       "</table>\n",
       "<p>5 rows × 33 columns</p>\n",
       "</div>"
      ],
      "text/plain": [
       "   Country  Admin1 SubDiv  Year  Sex  Frmat       Pop1      Pop2      Pop3  \\\n",
       "0     1060     NaN    NaN  1980    1      7   137100.0    3400.0   15800.0   \n",
       "1     1060     NaN    NaN  1980    2      7   159000.0    4000.0   18400.0   \n",
       "2     1125     NaN    NaN  1955    1      2  5051500.0  150300.0  543400.0   \n",
       "3     1125     NaN    NaN  1955    2      2  5049400.0  145200.0  551000.0   \n",
       "4     1125     NaN    NaN  1956    1      2  5353700.0  158700.0  576600.0   \n",
       "\n",
       "   Pop4  ...     Pop18    Pop19    Pop20    Pop21    Pop22    Pop23  Pop24  \\\n",
       "0   NaN  ...       NaN   5300.0      NaN   2900.0      NaN      NaN    NaN   \n",
       "1   NaN  ...       NaN   6200.0      NaN   3400.0      NaN      NaN    NaN   \n",
       "2   NaN  ...  110200.0  51100.0  41600.0  14300.0  11800.0  25300.0    NaN   \n",
       "3   NaN  ...  122100.0  51100.0  50700.0  15800.0  18000.0  28500.0    NaN   \n",
       "4   NaN  ...  116900.0  54100.0  44000.0  14900.0  12400.0  26600.0    NaN   \n",
       "\n",
       "   Pop25   Pop26        Lb  \n",
       "0    NaN  6500.0    5000.0  \n",
       "1    NaN  7500.0    6000.0  \n",
       "2    NaN     0.0  253329.0  \n",
       "3    NaN     0.0  237901.0  \n",
       "4    NaN     0.0  250022.0  \n",
       "\n",
       "[5 rows x 33 columns]"
      ]
     },
     "execution_count": 45,
     "metadata": {},
     "output_type": "execute_result"
    }
   ],
   "source": [
    "df = pd.read_csv(Path(datadir, 'pop'))\n",
    "df.head()"
   ]
  },
  {
   "cell_type": "code",
   "execution_count": null,
   "id": "5677a25f",
   "metadata": {},
   "outputs": [],
   "source": []
  }
 ],
 "metadata": {
  "kernelspec": {
   "display_name": "Python 3 (ipykernel)",
   "language": "python",
   "name": "python3"
  },
  "language_info": {
   "codemirror_mode": {
    "name": "ipython",
    "version": 3
   },
   "file_extension": ".py",
   "mimetype": "text/x-python",
   "name": "python",
   "nbconvert_exporter": "python",
   "pygments_lexer": "ipython3",
   "version": "3.8.12"
  }
 },
 "nbformat": 4,
 "nbformat_minor": 5
}
