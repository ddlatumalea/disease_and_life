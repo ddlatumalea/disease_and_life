{
 "cells": [
  {
   "cell_type": "code",
   "execution_count": 3,
   "id": "3ad43c25",
   "metadata": {},
   "outputs": [],
   "source": [
    "from abc import ABC, abstractmethod\n",
    "from pathlib import Path\n",
    "\n",
    "import pandas as pd"
   ]
  },
  {
   "cell_type": "code",
   "execution_count": 4,
   "id": "bb62c121",
   "metadata": {},
   "outputs": [],
   "source": [
    "# Refactor to config.yaml\n",
    "datadir = Path('../data')"
   ]
  },
  {
   "cell_type": "code",
   "execution_count": 56,
   "id": "811c0242",
   "metadata": {},
   "outputs": [],
   "source": [
    "class Cleaner(ABC):\n",
    "    \n",
    "    @abstractmethod\n",
    "    def to_lower():\n",
    "        pass\n",
    "    \n",
    "    @abstractmethod\n",
    "    def get_dtypes():\n",
    "        pass\n",
    "    \n",
    "    @abstractmethod\n",
    "    def check_missing_values():\n",
    "        pass\n",
    "    \n",
    "    def rename_column():\n",
    "        pass\n",
    "    \n",
    "class Reader(ABC):\n",
    "    \n",
    "    @abstractmethod\n",
    "    def read():\n",
    "        pass\n",
    "    \n",
    "    @abstractmethod\n",
    "    def get_data():\n",
    "        pass"
   ]
  },
  {
   "cell_type": "code",
   "execution_count": 57,
   "id": "01b23edf",
   "metadata": {},
   "outputs": [],
   "source": [
    "class ExcelReader(Reader):\n",
    "    \n",
    "    def __init__(self):\n",
    "        self.file = None\n",
    "        \n",
    "    def read(file_path):\n",
    "        file = pd.read_excel(file_path)\n",
    "        \n",
    "        self.file = file\n",
    "    \n",
    "    def get_data(file_path):\n",
    "        self.read(file_path)\n",
    "        \n",
    "        return self.file"
   ]
  },
  {
   "cell_type": "code",
   "execution_count": 55,
   "id": "cc9b1d56",
   "metadata": {},
   "outputs": [],
   "source": [
    "class CountryCodesCleaner(Cleaner):\n",
    "    \n",
    "    def __init__(self, df):\n",
    "        self.df = df\n",
    "        \n",
    "    def to_lower(self):\n",
    "        self.df.columns = self.df.column.str.lower()\n",
    "        \n",
    "    def get_dtypes(self):\n",
    "        print(self.df.dtypes)\n",
    "    \n",
    "    def check_missing_values(self):\n",
    "        return df.isna().sum()\n",
    "    \n",
    "    def rename_columns(self, mapping):\n",
    "        self.df = self.df.rename(columns=column_map)\n",
    "        \n",
    "class LifeExpectancyCleaner(Cleaner):\n",
    "    \n",
    "    def __init__(self, df):\n",
    "        self.df = df\n",
    "        \n",
    "    def to_lower():\n",
    "        self.df.column = self.df.column.str.lower()\n",
    "    \n",
    "    def get_dtypes():\n",
    "        pass\n",
    "    \n",
    "    def check_missing_values():\n",
    "        pass"
   ]
  },
  {
   "cell_type": "code",
   "execution_count": null,
   "id": "15a49aac",
   "metadata": {},
   "outputs": [],
   "source": [
    "excel_reader = ExcelReader"
   ]
  },
  {
   "cell_type": "code",
   "execution_count": 51,
   "id": "8136abf3",
   "metadata": {},
   "outputs": [
    {
     "data": {
      "text/html": [
       "<div>\n",
       "<style scoped>\n",
       "    .dataframe tbody tr th:only-of-type {\n",
       "        vertical-align: middle;\n",
       "    }\n",
       "\n",
       "    .dataframe tbody tr th {\n",
       "        vertical-align: top;\n",
       "    }\n",
       "\n",
       "    .dataframe thead th {\n",
       "        text-align: right;\n",
       "    }\n",
       "</style>\n",
       "<table border=\"1\" class=\"dataframe\">\n",
       "  <thead>\n",
       "    <tr style=\"text-align: right;\">\n",
       "      <th></th>\n",
       "      <th>country</th>\n",
       "      <th>name</th>\n",
       "    </tr>\n",
       "  </thead>\n",
       "  <tbody>\n",
       "    <tr>\n",
       "      <th>0</th>\n",
       "      <td>1010</td>\n",
       "      <td>Algeria</td>\n",
       "    </tr>\n",
       "    <tr>\n",
       "      <th>1</th>\n",
       "      <td>1020</td>\n",
       "      <td>Angola</td>\n",
       "    </tr>\n",
       "  </tbody>\n",
       "</table>\n",
       "</div>"
      ],
      "text/plain": [
       "   country     name\n",
       "0     1010  Algeria\n",
       "1     1020   Angola"
      ]
     },
     "execution_count": 51,
     "metadata": {},
     "output_type": "execute_result"
    }
   ],
   "source": [
    "df = pd.read_csv(Path(datadir, 'country_codes'))\n",
    "df.head(2)"
   ]
  },
  {
   "cell_type": "code",
   "execution_count": 52,
   "id": "5abb1555",
   "metadata": {},
   "outputs": [],
   "source": [
    "cleaner = CountryCodesCleaner(df)"
   ]
  },
  {
   "cell_type": "code",
   "execution_count": 53,
   "id": "13c77e59",
   "metadata": {},
   "outputs": [],
   "source": [
    "column_map = {\n",
    "    'country': 'country_code',\n",
    "    'name': 'country'\n",
    "}\n",
    "\n",
    "cleaner.rename_columns(column_map)"
   ]
  },
  {
   "cell_type": "code",
   "execution_count": 54,
   "id": "e002ee27",
   "metadata": {},
   "outputs": [
    {
     "data": {
      "text/plain": [
       "Index(['country', 'name'], dtype='object')"
      ]
     },
     "execution_count": 54,
     "metadata": {},
     "output_type": "execute_result"
    }
   ],
   "source": [
    "cleaner.check_missing_values().index"
   ]
  },
  {
   "cell_type": "code",
   "execution_count": null,
   "id": "fa327fc0",
   "metadata": {},
   "outputs": [],
   "source": []
  }
 ],
 "metadata": {
  "kernelspec": {
   "display_name": "Python 3 (ipykernel)",
   "language": "python",
   "name": "python3"
  },
  "language_info": {
   "codemirror_mode": {
    "name": "ipython",
    "version": 3
   },
   "file_extension": ".py",
   "mimetype": "text/x-python",
   "name": "python",
   "nbconvert_exporter": "python",
   "pygments_lexer": "ipython3",
   "version": "3.8.12"
  }
 },
 "nbformat": 4,
 "nbformat_minor": 5
}
