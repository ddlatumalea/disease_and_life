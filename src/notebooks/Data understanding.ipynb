{
 "cells": [
  {
   "cell_type": "markdown",
   "id": "64746c07",
   "metadata": {},
   "source": [
    "---------\n",
    "\n",
    "# Advice\n",
    "\n",
    "Based on the finding I created the following classes:\n",
    "- Cleaner: to clean the data `preprocessing.py`.\n",
    "- Selector and Aggregator: to select data and create aggregates `preparation.py`.\n",
    "- Dashboard for visualization `main.py`\n",
    "\n",
    "---------"
   ]
  },
  {
   "cell_type": "markdown",
   "id": "47db2c25",
   "metadata": {},
   "source": [
    "# Data Understanding\n",
    "Only analyzes the dataset of The Netherlands\n",
    "\n",
    "<a id=\"/1\" style=\"visibility: hidden;\">Data Understanding</a>\n",
    "\n",
    "* <u>Part 1</u><br />*Life Expectancy at Birth*\n",
    "\n",
    "* <span style=\"color:#336699\"><a href=\"#/9\">Part 2</a><br />Country Codes</span>\n",
    "\n",
    "* <span style=\"color:#336699\"><a href=\"#/13\">Part 3</a><br />Population (POP)</span>\n",
    "\n",
    "* <span style=\"color:#336699\"><a href=\"#/17\">Part 4</a><br />Morticd10 part 1 - 5</span>\n",
    "\n",
    "This notebook will describe the different data files and how they are built.\n",
    "\n",
    "I'll use the following files:\n",
    "- life_expectancy_at_birth.xlsx\n",
    "- country_codes\n",
    "- pop\n",
    "- Morticd10_part1\n",
    "- Morticd10_part2\n",
    "- Morticd10_part3\n",
    "- Morticd10_part4\n",
    "- Morticd10_part5\n"
   ]
  },
  {
   "cell_type": "code",
   "execution_count": 1,
   "id": "34aeaf0a",
   "metadata": {},
   "outputs": [],
   "source": [
    "from pathlib import Path\n",
    "import re\n",
    "\n",
    "import pandas as pd\n",
    "import numpy as np"
   ]
  },
  {
   "cell_type": "code",
   "execution_count": 2,
   "id": "a532ddfb",
   "metadata": {},
   "outputs": [],
   "source": [
    "# use config yaml\n",
    "datadir = Path('../data')"
   ]
  },
  {
   "cell_type": "markdown",
   "id": "36029485",
   "metadata": {},
   "source": [
    "# 1) Life Expectancy at Birth\n",
    "\n",
    "\n",
    "Source: https://www.who.int/data/maternal-newborn-child-adolescent-ageing/indicator-explorer-new/mca/life-expectancy-at-birth\n",
    "\n",
    "Indicator name: Life expectancy at birth (years)\n",
    "\n",
    "The indicator reflects the overall mortality level of a population. Age groups include:\n",
    "- Children, adolescents, adults and elderly.\n",
    "\n",
    "Definition: The average number of years that a newborn could expect to live, if he or she were to pass through life exposed to the sex- and age-specific death rates prevailing at the time of his or her birth, for a specific year, in a given country, territory, or geographic area.\n",
    "\n",
    "WHO used a specific method of estimation which can deviate from the official estimation of the Member State. I compared the data and in practise the deviations are very small (< 0.5). The WHO also provides more data, thus it outweights the cons."
   ]
  },
  {
   "cell_type": "markdown",
   "id": "702b3851",
   "metadata": {},
   "source": [
    "## i) Meaning of columns"
   ]
  },
  {
   "cell_type": "code",
   "execution_count": 4,
   "id": "6f0ec8df",
   "metadata": {},
   "outputs": [
    {
     "data": {
      "text/html": [
       "<div>\n",
       "<style scoped>\n",
       "    .dataframe tbody tr th:only-of-type {\n",
       "        vertical-align: middle;\n",
       "    }\n",
       "\n",
       "    .dataframe tbody tr th {\n",
       "        vertical-align: top;\n",
       "    }\n",
       "\n",
       "    .dataframe thead th {\n",
       "        text-align: right;\n",
       "    }\n",
       "</style>\n",
       "<table border=\"1\" class=\"dataframe\">\n",
       "  <thead>\n",
       "    <tr style=\"text-align: right;\">\n",
       "      <th></th>\n",
       "      <th>Year</th>\n",
       "      <th>WHO Region</th>\n",
       "      <th>World Bank Income Group</th>\n",
       "      <th>Country ISO Code</th>\n",
       "      <th>Country</th>\n",
       "      <th>Sex</th>\n",
       "      <th>Global</th>\n",
       "      <th>Value</th>\n",
       "    </tr>\n",
       "  </thead>\n",
       "  <tbody>\n",
       "    <tr>\n",
       "      <th>0</th>\n",
       "      <td>1950</td>\n",
       "      <td>Europe</td>\n",
       "      <td>High income</td>\n",
       "      <td>NLD</td>\n",
       "      <td>Netherlands</td>\n",
       "      <td>Both sexes</td>\n",
       "      <td>NaN</td>\n",
       "      <td>71.411</td>\n",
       "    </tr>\n",
       "    <tr>\n",
       "      <th>1</th>\n",
       "      <td>1950</td>\n",
       "      <td>Europe</td>\n",
       "      <td>High income</td>\n",
       "      <td>NLD</td>\n",
       "      <td>Netherlands</td>\n",
       "      <td>Female</td>\n",
       "      <td>NaN</td>\n",
       "      <td>72.615</td>\n",
       "    </tr>\n",
       "    <tr>\n",
       "      <th>3</th>\n",
       "      <td>1950</td>\n",
       "      <td>Europe</td>\n",
       "      <td>High income</td>\n",
       "      <td>NLD</td>\n",
       "      <td>Netherlands</td>\n",
       "      <td>Male</td>\n",
       "      <td>NaN</td>\n",
       "      <td>70.236</td>\n",
       "    </tr>\n",
       "  </tbody>\n",
       "</table>\n",
       "</div>"
      ],
      "text/plain": [
       "   Year WHO Region World Bank Income Group Country ISO Code      Country  \\\n",
       "0  1950     Europe             High income              NLD  Netherlands   \n",
       "1  1950     Europe             High income              NLD  Netherlands   \n",
       "3  1950     Europe             High income              NLD  Netherlands   \n",
       "\n",
       "          Sex  Global   Value  \n",
       "0  Both sexes     NaN  71.411  \n",
       "1      Female     NaN  72.615  \n",
       "3        Male     NaN  70.236  "
      ]
     },
     "execution_count": 4,
     "metadata": {},
     "output_type": "execute_result"
    }
   ],
   "source": [
    "df = pd.read_excel(Path(datadir, 'netherlands_life_exp.xlsx'))\n",
    "df = df.sort_values('Year')\n",
    "df.head(3)"
   ]
  },
  {
   "cell_type": "markdown",
   "id": "500cf3c9",
   "metadata": {},
   "source": [
    "#### Column names & their definitions:\n",
    "\n",
    "**Year**: the year of focus according to the Gregorian calendar.<br>\n",
    "**WHO region**: the continent in the world.<br>\n",
    "**World Bank Income Group**: economic state of the *Country*. <br>\n",
    "**Country ISO Code**: the ISO code of the *Country*.<br>\n",
    "**Country**: the country of focus.<br>\n",
    "**Sex**: a categorical value representing the biological sex, consisting of *Both sexes*, *Female*, and *Male*.<br>\n",
    "**Global**: *meaning unknown and will not be used*.<br>\n",
    "**Value**: the life expectancy in that *Year*."
   ]
  },
  {
   "cell_type": "markdown",
   "id": "e4ff41e4",
   "metadata": {},
   "source": [
    "## ii) Characteristics of Values\n",
    "Based on the description of the columns above, the following columns are important for further analysis:\n",
    "- General\n",
    "- Year\n",
    "- Sex\n",
    "- Value"
   ]
  },
  {
   "cell_type": "markdown",
   "id": "3ea1335a",
   "metadata": {},
   "source": [
    "#### General"
   ]
  },
  {
   "cell_type": "code",
   "execution_count": 5,
   "id": "f0ea5a69",
   "metadata": {},
   "outputs": [
    {
     "data": {
      "text/plain": [
       "(450, 8)"
      ]
     },
     "execution_count": 5,
     "metadata": {},
     "output_type": "execute_result"
    }
   ],
   "source": [
    "df.shape"
   ]
  },
  {
   "cell_type": "code",
   "execution_count": 6,
   "id": "17c49a71",
   "metadata": {},
   "outputs": [
    {
     "data": {
      "text/plain": [
       "Year                         0\n",
       "WHO Region                   0\n",
       "World Bank Income Group      0\n",
       "Country ISO Code             0\n",
       "Country                      0\n",
       "Sex                          0\n",
       "Global                     450\n",
       "Value                        0\n",
       "dtype: int64"
      ]
     },
     "execution_count": 6,
     "metadata": {},
     "output_type": "execute_result"
    }
   ],
   "source": [
    "df.isna().sum()"
   ]
  },
  {
   "cell_type": "markdown",
   "id": "ce5d6dee",
   "metadata": {},
   "source": [
    "In general there are 450 rows and 8 columns.There are no missing values that are important.\n",
    "\n",
    "Every year consists of three rows, consisting of a row for male, female and both sexes data."
   ]
  },
  {
   "cell_type": "markdown",
   "id": "97c4af8f",
   "metadata": {},
   "source": [
    "#### Year"
   ]
  },
  {
   "cell_type": "code",
   "execution_count": 7,
   "id": "73766ac9",
   "metadata": {},
   "outputs": [
    {
     "data": {
      "text/plain": [
       "dtype('int64')"
      ]
     },
     "execution_count": 7,
     "metadata": {},
     "output_type": "execute_result"
    }
   ],
   "source": [
    "df['Year'].dtype"
   ]
  },
  {
   "cell_type": "code",
   "execution_count": 8,
   "id": "f06a0209",
   "metadata": {},
   "outputs": [
    {
     "data": {
      "text/plain": [
       "150"
      ]
     },
     "execution_count": 8,
     "metadata": {},
     "output_type": "execute_result"
    }
   ],
   "source": [
    "df['Year'].unique().size"
   ]
  },
  {
   "cell_type": "code",
   "execution_count": 9,
   "id": "ea149c2b",
   "metadata": {},
   "outputs": [
    {
     "name": "stdout",
     "output_type": "stream",
     "text": [
      "The years range from 1950 to 2099.\n"
     ]
    }
   ],
   "source": [
    "# Check the lowest and highest year\n",
    "min_y = df['Year'].min()\n",
    "max_y = df['Year'].max()\n",
    "\n",
    "# Check if the years are sequential\n",
    "if (np.arange(min_y, max_y + 1) == df['Year'].unique()).all():\n",
    "    print('The years range from {} to {}.'.format(min_y, max_y))\n",
    "else:\n",
    "    print('THE YEARS ARE NOT SEQUENTIAL. THERE ARE MISSING YEARS!')"
   ]
  },
  {
   "cell_type": "markdown",
   "id": "d1e86448",
   "metadata": {},
   "source": [
    "#### Sex"
   ]
  },
  {
   "cell_type": "code",
   "execution_count": 10,
   "id": "c0b44191",
   "metadata": {},
   "outputs": [
    {
     "data": {
      "text/plain": [
       "dtype('O')"
      ]
     },
     "execution_count": 10,
     "metadata": {},
     "output_type": "execute_result"
    }
   ],
   "source": [
    "df['Sex'].dtype"
   ]
  },
  {
   "cell_type": "code",
   "execution_count": 11,
   "id": "ddd761b5",
   "metadata": {},
   "outputs": [
    {
     "data": {
      "text/plain": [
       "3"
      ]
     },
     "execution_count": 11,
     "metadata": {},
     "output_type": "execute_result"
    }
   ],
   "source": [
    "df['Sex'].unique().size"
   ]
  },
  {
   "cell_type": "code",
   "execution_count": 12,
   "id": "c30bd6ed",
   "metadata": {},
   "outputs": [
    {
     "data": {
      "text/plain": [
       "array(['Both sexes', 'Female', 'Male'], dtype=object)"
      ]
     },
     "execution_count": 12,
     "metadata": {},
     "output_type": "execute_result"
    }
   ],
   "source": [
    "df['Sex'].unique()"
   ]
  },
  {
   "cell_type": "markdown",
   "id": "c4b863cc",
   "metadata": {},
   "source": [
    "The `Sex` column can have one of the following values: `Both sexes`, `Female`, `Male`."
   ]
  },
  {
   "cell_type": "markdown",
   "id": "7824ef69",
   "metadata": {},
   "source": [
    "#### Value"
   ]
  },
  {
   "cell_type": "code",
   "execution_count": 13,
   "id": "dac00b72",
   "metadata": {},
   "outputs": [
    {
     "data": {
      "text/plain": [
       "dtype('float64')"
      ]
     },
     "execution_count": 13,
     "metadata": {},
     "output_type": "execute_result"
    }
   ],
   "source": [
    "df['Value'].dtype"
   ]
  },
  {
   "cell_type": "code",
   "execution_count": 14,
   "id": "557d374d",
   "metadata": {},
   "outputs": [
    {
     "data": {
      "text/plain": [
       "448"
      ]
     },
     "execution_count": 14,
     "metadata": {},
     "output_type": "execute_result"
    }
   ],
   "source": [
    "df['Value'].unique().size"
   ]
  },
  {
   "cell_type": "code",
   "execution_count": 15,
   "id": "c865ba2f",
   "metadata": {},
   "outputs": [
    {
     "name": "stdout",
     "output_type": "stream",
     "text": [
      "Lowest life expectancy measured: 70.236 in 1950\n",
      "Highest life expectancy measured: 92.776 in 2099\n"
     ]
    }
   ],
   "source": [
    "min_v = df['Value'].min()\n",
    "max_v = df['Value'].max()\n",
    "\n",
    "min_i = df['Value'].argmin()\n",
    "max_i = df['Value'].argmax()\n",
    "\n",
    "print('Lowest life expectancy measured: {} in {}'.format(min_v, df['Year'].iloc[min_i]))\n",
    "print('Highest life expectancy measured: {} in {}'.format(max_v, df['Year'].iloc[max_i]))"
   ]
  },
  {
   "cell_type": "markdown",
   "id": "7d148933",
   "metadata": {},
   "source": [
    "The life expectancy was lowest in 1950 and will be expected to be the highest in 2099. WHO has extrapolated the life expectancy to 2099. This means, it is just an estimation and if values in the future will be used, then it must be used with caution.\n",
    "\n",
    "The `Value` column name is not descriptive enough. It is advices to change it to `Life expectancy at birth`.\n",
    "\n",
    "------------\n"
   ]
  },
  {
   "cell_type": "markdown",
   "id": "b72633d2",
   "metadata": {},
   "source": [
    "**CONCLUSION**:\n",
    "\n",
    "Every year that is measured consists of 3 rows:\n",
    "- Row 1 contains the life expectancy for Males and Females together (mean).\n",
    "- Row 2 contains the life expectancy for Females.\n",
    "- Row 3 contains the life expectancy for Males.\n",
    "\n",
    "There are *NO* missing values.\n",
    "\n",
    "The years range from `1950` till `2099` using extrapolation.\n",
    "\n",
    "The `Value` column is not descriptive. Change the name to `Life expectancy at birth`.\n",
    "\n",
    "------------\n"
   ]
  },
  {
   "cell_type": "markdown",
   "id": "77902e7c",
   "metadata": {},
   "source": [
    "# 2) <a id=\"/9\">Country Codes</a>\n",
    "\n",
    "* <span style=\"color:#336699\"><a href=\"#/1\">Part 1</a><br />Life Expectancy at Birth</span>\n",
    "\n",
    "* <u>Part 2</u><br />*Country Codes*\n",
    "\n",
    "* <span style=\"color:#336699\"><a href=\"#/13\">Part 3</a><br />Population (POP)</span>\n",
    "\n",
    "* <span style=\"color:#336699\"><a href=\"#/17\">Part 4</a><br />Morticd10 part 1 - 5</span>"
   ]
  },
  {
   "cell_type": "code",
   "execution_count": 16,
   "id": "7276f58d",
   "metadata": {},
   "outputs": [
    {
     "data": {
      "text/html": [
       "<div>\n",
       "<style scoped>\n",
       "    .dataframe tbody tr th:only-of-type {\n",
       "        vertical-align: middle;\n",
       "    }\n",
       "\n",
       "    .dataframe tbody tr th {\n",
       "        vertical-align: top;\n",
       "    }\n",
       "\n",
       "    .dataframe thead th {\n",
       "        text-align: right;\n",
       "    }\n",
       "</style>\n",
       "<table border=\"1\" class=\"dataframe\">\n",
       "  <thead>\n",
       "    <tr style=\"text-align: right;\">\n",
       "      <th></th>\n",
       "      <th>country</th>\n",
       "      <th>name</th>\n",
       "    </tr>\n",
       "  </thead>\n",
       "  <tbody>\n",
       "    <tr>\n",
       "      <th>0</th>\n",
       "      <td>1010</td>\n",
       "      <td>Algeria</td>\n",
       "    </tr>\n",
       "    <tr>\n",
       "      <th>1</th>\n",
       "      <td>1020</td>\n",
       "      <td>Angola</td>\n",
       "    </tr>\n",
       "    <tr>\n",
       "      <th>2</th>\n",
       "      <td>1025</td>\n",
       "      <td>Benin</td>\n",
       "    </tr>\n",
       "  </tbody>\n",
       "</table>\n",
       "</div>"
      ],
      "text/plain": [
       "   country     name\n",
       "0     1010  Algeria\n",
       "1     1020   Angola\n",
       "2     1025    Benin"
      ]
     },
     "execution_count": 16,
     "metadata": {},
     "output_type": "execute_result"
    }
   ],
   "source": [
    "df = pd.read_csv(Path(datadir, 'country_codes'))\n",
    "df.head(3)"
   ]
  },
  {
   "cell_type": "markdown",
   "id": "bc9f5acd",
   "metadata": {},
   "source": [
    "#### Column names & their definitions:\n",
    "\n",
    "**country**: The country number.<br>\n",
    "**name**: the name of the country.<br>"
   ]
  },
  {
   "cell_type": "code",
   "execution_count": 17,
   "id": "e16577b4",
   "metadata": {},
   "outputs": [
    {
     "data": {
      "text/html": [
       "<div>\n",
       "<style scoped>\n",
       "    .dataframe tbody tr th:only-of-type {\n",
       "        vertical-align: middle;\n",
       "    }\n",
       "\n",
       "    .dataframe tbody tr th {\n",
       "        vertical-align: top;\n",
       "    }\n",
       "\n",
       "    .dataframe thead th {\n",
       "        text-align: right;\n",
       "    }\n",
       "</style>\n",
       "<table border=\"1\" class=\"dataframe\">\n",
       "  <thead>\n",
       "    <tr style=\"text-align: right;\">\n",
       "      <th></th>\n",
       "      <th>country</th>\n",
       "      <th>name</th>\n",
       "    </tr>\n",
       "  </thead>\n",
       "  <tbody>\n",
       "    <tr>\n",
       "      <th>186</th>\n",
       "      <td>4210</td>\n",
       "      <td>Netherlands</td>\n",
       "    </tr>\n",
       "  </tbody>\n",
       "</table>\n",
       "</div>"
      ],
      "text/plain": [
       "     country         name\n",
       "186     4210  Netherlands"
      ]
     },
     "execution_count": 17,
     "metadata": {},
     "output_type": "execute_result"
    }
   ],
   "source": [
    "df[df['name'] == 'Netherlands']"
   ]
  },
  {
   "cell_type": "markdown",
   "id": "f34aa468",
   "metadata": {},
   "source": [
    "--------\n",
    "\n",
    "**CONCLUSION**:\n",
    "\n",
    "The Netherlands has country code `4210`.\n",
    "\n",
    "------"
   ]
  },
  {
   "cell_type": "markdown",
   "id": "6791a4c1",
   "metadata": {},
   "source": [
    "# 3) <a id=\"/13\">Population POP</a>\n",
    "\n",
    "* <span style=\"color:#336699\"><a href=\"#/1\">Part 1</a><br />Life Expectancy at Birth</span>\n",
    "\n",
    "* <span style=\"color:#336699\"><a href=\"#/9\">Part 2</a><br />Country Codes</span>\n",
    "\n",
    "* <u>Part 3</u><br />*Population POP*\n",
    "\n",
    "* <span style=\"color:#336699\"><a href=\"#/17\">Part 4</a><br />Morticd10 part 1 - 5</span>"
   ]
  },
  {
   "cell_type": "code",
   "execution_count": 18,
   "id": "9cf953f0",
   "metadata": {},
   "outputs": [
    {
     "data": {
      "text/html": [
       "<div>\n",
       "<style scoped>\n",
       "    .dataframe tbody tr th:only-of-type {\n",
       "        vertical-align: middle;\n",
       "    }\n",
       "\n",
       "    .dataframe tbody tr th {\n",
       "        vertical-align: top;\n",
       "    }\n",
       "\n",
       "    .dataframe thead th {\n",
       "        text-align: right;\n",
       "    }\n",
       "</style>\n",
       "<table border=\"1\" class=\"dataframe\">\n",
       "  <thead>\n",
       "    <tr style=\"text-align: right;\">\n",
       "      <th></th>\n",
       "      <th>Country</th>\n",
       "      <th>Admin1</th>\n",
       "      <th>SubDiv</th>\n",
       "      <th>Year</th>\n",
       "      <th>Sex</th>\n",
       "      <th>Frmat</th>\n",
       "      <th>Pop1</th>\n",
       "      <th>Pop2</th>\n",
       "      <th>Pop3</th>\n",
       "      <th>Pop4</th>\n",
       "      <th>...</th>\n",
       "      <th>Pop18</th>\n",
       "      <th>Pop19</th>\n",
       "      <th>Pop20</th>\n",
       "      <th>Pop21</th>\n",
       "      <th>Pop22</th>\n",
       "      <th>Pop23</th>\n",
       "      <th>Pop24</th>\n",
       "      <th>Pop25</th>\n",
       "      <th>Pop26</th>\n",
       "      <th>Lb</th>\n",
       "    </tr>\n",
       "  </thead>\n",
       "  <tbody>\n",
       "    <tr>\n",
       "      <th>0</th>\n",
       "      <td>1060</td>\n",
       "      <td>NaN</td>\n",
       "      <td>NaN</td>\n",
       "      <td>1980</td>\n",
       "      <td>1</td>\n",
       "      <td>7</td>\n",
       "      <td>137100.0</td>\n",
       "      <td>3400.0</td>\n",
       "      <td>15800.0</td>\n",
       "      <td>NaN</td>\n",
       "      <td>...</td>\n",
       "      <td>NaN</td>\n",
       "      <td>5300.0</td>\n",
       "      <td>NaN</td>\n",
       "      <td>2900.0</td>\n",
       "      <td>NaN</td>\n",
       "      <td>NaN</td>\n",
       "      <td>NaN</td>\n",
       "      <td>NaN</td>\n",
       "      <td>6500.0</td>\n",
       "      <td>5000.0</td>\n",
       "    </tr>\n",
       "    <tr>\n",
       "      <th>1</th>\n",
       "      <td>1060</td>\n",
       "      <td>NaN</td>\n",
       "      <td>NaN</td>\n",
       "      <td>1980</td>\n",
       "      <td>2</td>\n",
       "      <td>7</td>\n",
       "      <td>159000.0</td>\n",
       "      <td>4000.0</td>\n",
       "      <td>18400.0</td>\n",
       "      <td>NaN</td>\n",
       "      <td>...</td>\n",
       "      <td>NaN</td>\n",
       "      <td>6200.0</td>\n",
       "      <td>NaN</td>\n",
       "      <td>3400.0</td>\n",
       "      <td>NaN</td>\n",
       "      <td>NaN</td>\n",
       "      <td>NaN</td>\n",
       "      <td>NaN</td>\n",
       "      <td>7500.0</td>\n",
       "      <td>6000.0</td>\n",
       "    </tr>\n",
       "    <tr>\n",
       "      <th>2</th>\n",
       "      <td>1125</td>\n",
       "      <td>NaN</td>\n",
       "      <td>NaN</td>\n",
       "      <td>1955</td>\n",
       "      <td>1</td>\n",
       "      <td>2</td>\n",
       "      <td>5051500.0</td>\n",
       "      <td>150300.0</td>\n",
       "      <td>543400.0</td>\n",
       "      <td>NaN</td>\n",
       "      <td>...</td>\n",
       "      <td>110200.0</td>\n",
       "      <td>51100.0</td>\n",
       "      <td>41600.0</td>\n",
       "      <td>14300.0</td>\n",
       "      <td>11800.0</td>\n",
       "      <td>25300.0</td>\n",
       "      <td>NaN</td>\n",
       "      <td>NaN</td>\n",
       "      <td>0.0</td>\n",
       "      <td>253329.0</td>\n",
       "    </tr>\n",
       "  </tbody>\n",
       "</table>\n",
       "<p>3 rows × 33 columns</p>\n",
       "</div>"
      ],
      "text/plain": [
       "   Country  Admin1 SubDiv  Year  Sex  Frmat       Pop1      Pop2      Pop3  \\\n",
       "0     1060     NaN    NaN  1980    1      7   137100.0    3400.0   15800.0   \n",
       "1     1060     NaN    NaN  1980    2      7   159000.0    4000.0   18400.0   \n",
       "2     1125     NaN    NaN  1955    1      2  5051500.0  150300.0  543400.0   \n",
       "\n",
       "   Pop4  ...     Pop18    Pop19    Pop20    Pop21    Pop22    Pop23  Pop24  \\\n",
       "0   NaN  ...       NaN   5300.0      NaN   2900.0      NaN      NaN    NaN   \n",
       "1   NaN  ...       NaN   6200.0      NaN   3400.0      NaN      NaN    NaN   \n",
       "2   NaN  ...  110200.0  51100.0  41600.0  14300.0  11800.0  25300.0    NaN   \n",
       "\n",
       "   Pop25   Pop26        Lb  \n",
       "0    NaN  6500.0    5000.0  \n",
       "1    NaN  7500.0    6000.0  \n",
       "2    NaN     0.0  253329.0  \n",
       "\n",
       "[3 rows x 33 columns]"
      ]
     },
     "execution_count": 18,
     "metadata": {},
     "output_type": "execute_result"
    }
   ],
   "source": [
    "df = pd.read_csv(Path(datadir, 'pop'))\n",
    "df.head(3)"
   ]
  },
  {
   "cell_type": "markdown",
   "id": "519080d1",
   "metadata": {},
   "source": [
    "#### Column names & their definitions:\n",
    "\n",
    "**Country**: the country code, as defined in part 2.<br>\n",
    "**Admin1**: specified pertinent. If blank, data refers to the country.<br>\n",
    "**SubDiv**: Category of data, Annex Table 2 in the manual. If blank, data refers to the country.<br>\n",
    "**Year**: The year to which data refer.<br>\n",
    "**Sex**: categorical value where 1 means male and 2 means female.<br>\n",
    "**Frmat**: Age-group format for breakdown, see Annex Table 1 in the manual.<br>\n",
    "**Pop1**: Population at all ages.<br>\n",
    "**Pop2**: Population at age 0.<br>\n",
    "**Pop3**: Poplatuion at age 1.<br>\n",
    "**Pop4**: Poplatuion at age 2.<br>\n",
    "**Pop5**: Poplatuion at age 3.<br>\n",
    "**Pop6**: Poplatuion at age 4.<br>\n",
    "**Pop7**: Poplatuion at age 5-9.<br>\n",
    "**Pop8**: Poplatuion at age 10-14<br>\n",
    "**Pop9**: Poplatuion at age 15-19<br>\n",
    "**Pop10**: Poplatuion at age 20-24<br>\n",
    "**Pop11**: Poplatuion at age 25-29<br>\n",
    "**Pop12**: Poplatuion at age 30-34<br>\n",
    "**Pop13**: Poplatuion at age 35-39.<br>\n",
    "**Pop14**: Poplatuion at age 40-44<br>\n",
    "**Pop15**: Poplatuion at age 45-49<br>\n",
    "**Pop16**: Poplatuion at age 50-54<br>\n",
    "**Pop17**: Poplatuion at age 55-59<br>\n",
    "**Pop18**: Poplatuion at age 60-64<br>\n",
    "**Pop19**: Poplatuion at age 65-69<br>\n",
    "**Pop20**: Poplatuion at age 70-74<br>\n",
    "**Pop21**: Poplatuion at age 75-79<br>\n",
    "**Pop22**: Poplatuion at age 80-84<br>\n",
    "**Pop23**: Poplatuion at age 85-89<br>\n",
    "**Pop24**: Poplatuion at age 90-94<br>\n",
    "**Pop25**: Poplatuion at age 95 and over<br>\n",
    "**Pop26**: Poplatuion at age unspecified<br>\n",
    "**Lb**: Live births. *What this actually means is unknown.<br>\n"
   ]
  },
  {
   "cell_type": "markdown",
   "id": "db510112",
   "metadata": {},
   "source": [
    "## ii) Characteristics of Values\n",
    "Based on the description of the columns above, the following columns are important for further analysis:\n",
    "- General\n",
    "- Year\n",
    "- Sex\n",
    "- Pop1, we are only interested in the whole population."
   ]
  },
  {
   "cell_type": "markdown",
   "id": "986b998a",
   "metadata": {},
   "source": [
    "#### General"
   ]
  },
  {
   "cell_type": "code",
   "execution_count": 19,
   "id": "45f73a2c",
   "metadata": {},
   "outputs": [],
   "source": [
    "nl = df[df['Country'] == 4210]"
   ]
  },
  {
   "cell_type": "code",
   "execution_count": 20,
   "id": "31aaf2d7",
   "metadata": {},
   "outputs": [
    {
     "data": {
      "text/html": [
       "<div>\n",
       "<style scoped>\n",
       "    .dataframe tbody tr th:only-of-type {\n",
       "        vertical-align: middle;\n",
       "    }\n",
       "\n",
       "    .dataframe tbody tr th {\n",
       "        vertical-align: top;\n",
       "    }\n",
       "\n",
       "    .dataframe thead th {\n",
       "        text-align: right;\n",
       "    }\n",
       "</style>\n",
       "<table border=\"1\" class=\"dataframe\">\n",
       "  <thead>\n",
       "    <tr style=\"text-align: right;\">\n",
       "      <th></th>\n",
       "      <th>Country</th>\n",
       "      <th>Admin1</th>\n",
       "      <th>SubDiv</th>\n",
       "      <th>Year</th>\n",
       "      <th>Sex</th>\n",
       "      <th>Frmat</th>\n",
       "      <th>Pop1</th>\n",
       "      <th>Pop2</th>\n",
       "      <th>Pop3</th>\n",
       "      <th>Pop4</th>\n",
       "      <th>...</th>\n",
       "      <th>Pop18</th>\n",
       "      <th>Pop19</th>\n",
       "      <th>Pop20</th>\n",
       "      <th>Pop21</th>\n",
       "      <th>Pop22</th>\n",
       "      <th>Pop23</th>\n",
       "      <th>Pop24</th>\n",
       "      <th>Pop25</th>\n",
       "      <th>Pop26</th>\n",
       "      <th>Lb</th>\n",
       "    </tr>\n",
       "  </thead>\n",
       "  <tbody>\n",
       "    <tr>\n",
       "      <th>7055</th>\n",
       "      <td>4210</td>\n",
       "      <td>NaN</td>\n",
       "      <td>NaN</td>\n",
       "      <td>1950</td>\n",
       "      <td>1</td>\n",
       "      <td>1</td>\n",
       "      <td>5041000.0</td>\n",
       "      <td>117200.0</td>\n",
       "      <td>121100.0</td>\n",
       "      <td>127600.0</td>\n",
       "      <td>...</td>\n",
       "      <td>183300.0</td>\n",
       "      <td>147700.0</td>\n",
       "      <td>111500.0</td>\n",
       "      <td>68500.0</td>\n",
       "      <td>32700.0</td>\n",
       "      <td>13600.0</td>\n",
       "      <td>NaN</td>\n",
       "      <td>NaN</td>\n",
       "      <td>0.0</td>\n",
       "      <td>118520.0</td>\n",
       "    </tr>\n",
       "    <tr>\n",
       "      <th>7056</th>\n",
       "      <td>4210</td>\n",
       "      <td>NaN</td>\n",
       "      <td>NaN</td>\n",
       "      <td>1950</td>\n",
       "      <td>2</td>\n",
       "      <td>1</td>\n",
       "      <td>5072500.0</td>\n",
       "      <td>110700.0</td>\n",
       "      <td>114200.0</td>\n",
       "      <td>120700.0</td>\n",
       "      <td>...</td>\n",
       "      <td>193300.0</td>\n",
       "      <td>157000.0</td>\n",
       "      <td>119800.0</td>\n",
       "      <td>76100.0</td>\n",
       "      <td>38300.0</td>\n",
       "      <td>17300.0</td>\n",
       "      <td>NaN</td>\n",
       "      <td>NaN</td>\n",
       "      <td>0.0</td>\n",
       "      <td>111198.0</td>\n",
       "    </tr>\n",
       "    <tr>\n",
       "      <th>7057</th>\n",
       "      <td>4210</td>\n",
       "      <td>NaN</td>\n",
       "      <td>NaN</td>\n",
       "      <td>1951</td>\n",
       "      <td>1</td>\n",
       "      <td>1</td>\n",
       "      <td>5114800.0</td>\n",
       "      <td>115200.0</td>\n",
       "      <td>116800.0</td>\n",
       "      <td>121000.0</td>\n",
       "      <td>...</td>\n",
       "      <td>186400.0</td>\n",
       "      <td>151600.0</td>\n",
       "      <td>113800.0</td>\n",
       "      <td>71800.0</td>\n",
       "      <td>33800.0</td>\n",
       "      <td>14400.0</td>\n",
       "      <td>NaN</td>\n",
       "      <td>NaN</td>\n",
       "      <td>0.0</td>\n",
       "      <td>117801.0</td>\n",
       "    </tr>\n",
       "    <tr>\n",
       "      <th>7058</th>\n",
       "      <td>4210</td>\n",
       "      <td>NaN</td>\n",
       "      <td>NaN</td>\n",
       "      <td>1951</td>\n",
       "      <td>2</td>\n",
       "      <td>1</td>\n",
       "      <td>5149500.0</td>\n",
       "      <td>108800.0</td>\n",
       "      <td>110400.0</td>\n",
       "      <td>114100.0</td>\n",
       "      <td>...</td>\n",
       "      <td>197500.0</td>\n",
       "      <td>161400.0</td>\n",
       "      <td>122700.0</td>\n",
       "      <td>79300.0</td>\n",
       "      <td>39500.0</td>\n",
       "      <td>18200.0</td>\n",
       "      <td>NaN</td>\n",
       "      <td>NaN</td>\n",
       "      <td>0.0</td>\n",
       "      <td>110604.0</td>\n",
       "    </tr>\n",
       "    <tr>\n",
       "      <th>7059</th>\n",
       "      <td>4210</td>\n",
       "      <td>NaN</td>\n",
       "      <td>NaN</td>\n",
       "      <td>1952</td>\n",
       "      <td>1</td>\n",
       "      <td>1</td>\n",
       "      <td>5171900.0</td>\n",
       "      <td>115600.0</td>\n",
       "      <td>114300.0</td>\n",
       "      <td>116100.0</td>\n",
       "      <td>...</td>\n",
       "      <td>189800.0</td>\n",
       "      <td>155100.0</td>\n",
       "      <td>116200.0</td>\n",
       "      <td>75100.0</td>\n",
       "      <td>35300.0</td>\n",
       "      <td>15100.0</td>\n",
       "      <td>NaN</td>\n",
       "      <td>NaN</td>\n",
       "      <td>0.0</td>\n",
       "      <td>119598.0</td>\n",
       "    </tr>\n",
       "  </tbody>\n",
       "</table>\n",
       "<p>5 rows × 33 columns</p>\n",
       "</div>"
      ],
      "text/plain": [
       "      Country  Admin1 SubDiv  Year  Sex  Frmat       Pop1      Pop2      Pop3  \\\n",
       "7055     4210     NaN    NaN  1950    1      1  5041000.0  117200.0  121100.0   \n",
       "7056     4210     NaN    NaN  1950    2      1  5072500.0  110700.0  114200.0   \n",
       "7057     4210     NaN    NaN  1951    1      1  5114800.0  115200.0  116800.0   \n",
       "7058     4210     NaN    NaN  1951    2      1  5149500.0  108800.0  110400.0   \n",
       "7059     4210     NaN    NaN  1952    1      1  5171900.0  115600.0  114300.0   \n",
       "\n",
       "          Pop4  ...     Pop18     Pop19     Pop20    Pop21    Pop22    Pop23  \\\n",
       "7055  127600.0  ...  183300.0  147700.0  111500.0  68500.0  32700.0  13600.0   \n",
       "7056  120700.0  ...  193300.0  157000.0  119800.0  76100.0  38300.0  17300.0   \n",
       "7057  121000.0  ...  186400.0  151600.0  113800.0  71800.0  33800.0  14400.0   \n",
       "7058  114100.0  ...  197500.0  161400.0  122700.0  79300.0  39500.0  18200.0   \n",
       "7059  116100.0  ...  189800.0  155100.0  116200.0  75100.0  35300.0  15100.0   \n",
       "\n",
       "      Pop24  Pop25  Pop26        Lb  \n",
       "7055    NaN    NaN    0.0  118520.0  \n",
       "7056    NaN    NaN    0.0  111198.0  \n",
       "7057    NaN    NaN    0.0  117801.0  \n",
       "7058    NaN    NaN    0.0  110604.0  \n",
       "7059    NaN    NaN    0.0  119598.0  \n",
       "\n",
       "[5 rows x 33 columns]"
      ]
     },
     "execution_count": 20,
     "metadata": {},
     "output_type": "execute_result"
    }
   ],
   "source": [
    "nl.head()"
   ]
  },
  {
   "cell_type": "code",
   "execution_count": 21,
   "id": "ec563ae7",
   "metadata": {},
   "outputs": [
    {
     "data": {
      "text/plain": [
       "(138, 33)"
      ]
     },
     "execution_count": 21,
     "metadata": {},
     "output_type": "execute_result"
    }
   ],
   "source": [
    "nl.shape"
   ]
  },
  {
   "cell_type": "code",
   "execution_count": 22,
   "id": "93b8edf8",
   "metadata": {},
   "outputs": [
    {
     "data": {
      "text/plain": [
       "Country      0\n",
       "Admin1     138\n",
       "SubDiv     138\n",
       "Year         0\n",
       "Sex          0\n",
       "Frmat        0\n",
       "Pop1         0\n",
       "Pop2         0\n",
       "Pop3         0\n",
       "Pop4         0\n",
       "Pop5         0\n",
       "Pop6         0\n",
       "Pop7         0\n",
       "Pop8         0\n",
       "Pop9         0\n",
       "Pop10        0\n",
       "Pop11        0\n",
       "Pop12        0\n",
       "Pop13        0\n",
       "Pop14        0\n",
       "Pop15        0\n",
       "Pop16        0\n",
       "Pop17        0\n",
       "Pop18        0\n",
       "Pop19        0\n",
       "Pop20        0\n",
       "Pop21        0\n",
       "Pop22        0\n",
       "Pop23        0\n",
       "Pop24      100\n",
       "Pop25      100\n",
       "Pop26        0\n",
       "Lb           0\n",
       "dtype: int64"
      ]
     },
     "execution_count": 22,
     "metadata": {},
     "output_type": "execute_result"
    }
   ],
   "source": [
    "nl.isna().sum()"
   ]
  },
  {
   "cell_type": "markdown",
   "id": "2edf61ba",
   "metadata": {},
   "source": [
    "The columns that are important do not have missing values. \n",
    "\n",
    "The dataframe consists of two rows for each year, where one row given information about males and the other about females."
   ]
  },
  {
   "cell_type": "markdown",
   "id": "a060a7a4",
   "metadata": {},
   "source": [
    "#### Year"
   ]
  },
  {
   "cell_type": "code",
   "execution_count": 23,
   "id": "4439b490",
   "metadata": {},
   "outputs": [
    {
     "data": {
      "text/plain": [
       "7055    1950\n",
       "7056    1950\n",
       "7057    1951\n",
       "7058    1951\n",
       "7059    1952\n",
       "7060    1952\n",
       "7061    1953\n",
       "7062    1953\n",
       "7063    1954\n",
       "7064    1954\n",
       "Name: Year, dtype: int64"
      ]
     },
     "execution_count": 23,
     "metadata": {},
     "output_type": "execute_result"
    }
   ],
   "source": [
    "nl['Year'].head(10)"
   ]
  },
  {
   "cell_type": "code",
   "execution_count": 24,
   "id": "36a484dd",
   "metadata": {},
   "outputs": [
    {
     "name": "stdout",
     "output_type": "stream",
     "text": [
      "The years range from 1950 to 2018.\n"
     ]
    }
   ],
   "source": [
    "# Check the lowest and highest year\n",
    "min_y = nl['Year'].min()\n",
    "max_y = nl['Year'].max()\n",
    "\n",
    "# Check if the years are sequential\n",
    "if (np.arange(min_y, max_y + 1) == nl['Year'].unique()).all():\n",
    "    print('The years range from {} to {}.'.format(min_y, max_y))\n",
    "else:\n",
    "    print('THE YEARS ARE NOT SEQUENTIAL. THERE ARE MISSING YEARS!')"
   ]
  },
  {
   "cell_type": "markdown",
   "id": "ebb7120e",
   "metadata": {},
   "source": [
    "#### Sex"
   ]
  },
  {
   "cell_type": "code",
   "execution_count": 25,
   "id": "3dab8169",
   "metadata": {},
   "outputs": [
    {
     "data": {
      "text/plain": [
       "dtype('int64')"
      ]
     },
     "execution_count": 25,
     "metadata": {},
     "output_type": "execute_result"
    }
   ],
   "source": [
    "nl['Sex'].dtype"
   ]
  },
  {
   "cell_type": "code",
   "execution_count": 26,
   "id": "04fc1b73",
   "metadata": {},
   "outputs": [
    {
     "data": {
      "text/plain": [
       "array([1, 2], dtype=int64)"
      ]
     },
     "execution_count": 26,
     "metadata": {},
     "output_type": "execute_result"
    }
   ],
   "source": [
    "nl['Sex'].unique()"
   ]
  },
  {
   "cell_type": "markdown",
   "id": "b5eba06b",
   "metadata": {},
   "source": [
    "Where 1 means male, and 2 means female. It is possible to change this to categorical values as a string with a mapping."
   ]
  },
  {
   "cell_type": "markdown",
   "id": "d4ad9b56",
   "metadata": {},
   "source": [
    "#### Pop1"
   ]
  },
  {
   "cell_type": "code",
   "execution_count": 27,
   "id": "5a9ad6c9",
   "metadata": {},
   "outputs": [
    {
     "data": {
      "text/plain": [
       "dtype('float64')"
      ]
     },
     "execution_count": 27,
     "metadata": {},
     "output_type": "execute_result"
    }
   ],
   "source": [
    "nl['Pop1'].dtype"
   ]
  },
  {
   "cell_type": "code",
   "execution_count": 28,
   "id": "80edd96f",
   "metadata": {},
   "outputs": [
    {
     "data": {
      "text/plain": [
       "16615394.0"
      ]
     },
     "execution_count": 28,
     "metadata": {},
     "output_type": "execute_result"
    }
   ],
   "source": [
    "# Total population in 2010\n",
    "# CBS returns 16 580 000\n",
    "# The World Bank returns 16 620 000\n",
    "nl[nl['Year'] == 2010]['Pop1'].sum()"
   ]
  },
  {
   "cell_type": "markdown",
   "id": "0c604c69",
   "metadata": {},
   "source": [
    "There is a slight divergence between the data from WHO and CBS, but it is negligible."
   ]
  },
  {
   "cell_type": "markdown",
   "id": "2a22f2c7",
   "metadata": {},
   "source": [
    "---------\n",
    "\n",
    "**CONCLUSION**:\n",
    "\n",
    "Every year consists of two rows, namely:\n",
    "- Row 1 represents the male population.\n",
    "- Row 2 represents the female population.\n",
    "\n",
    "Year ranges from `1950` to `2018`.\n",
    "\n",
    "'Sex' consists of a mapping: 1 -> Male, 2 -> Female.\n",
    "\n",
    "---------"
   ]
  },
  {
   "cell_type": "markdown",
   "id": "d742237a",
   "metadata": {},
   "source": [
    "# 4) <a id=\"/17\">Morticd10</a>\n",
    "\n",
    "* <span style=\"color:#336699\"><a href=\"#/1\">Part 1</a><br />Life Expectancy at Birth</span>\n",
    "\n",
    "* <span style=\"color:#336699\"><a href=\"#/9\">Part 2</a><br />Country Codes</span>\n",
    "\n",
    "* <span style=\"color:#336699\"><a href=\"#/13\">Part 3</a><br />Population POP</span>\n",
    "\n",
    "* <u>Part 4</u><br />*Morticd10*\n"
   ]
  },
  {
   "cell_type": "markdown",
   "id": "e13a30ab",
   "metadata": {},
   "source": [
    "In total, there are five files that make up the mortality rate.\n",
    "\n",
    "- Morticd10_part1\n",
    "- Morticd10_part2\n",
    "- Morticd10_part3\n",
    "- Morticd10_part4\n",
    "- Morticd10_part5"
   ]
  },
  {
   "cell_type": "markdown",
   "id": "301674f2",
   "metadata": {},
   "source": [
    "## i) Meaning of columns\n",
    "\n",
    "All files contain the same columns."
   ]
  },
  {
   "cell_type": "code",
   "execution_count": 29,
   "id": "1a95875e",
   "metadata": {},
   "outputs": [
    {
     "name": "stderr",
     "output_type": "stream",
     "text": [
      "C:\\Users\\ddlat\\anaconda3\\lib\\site-packages\\IPython\\core\\interactiveshell.py:3444: DtypeWarning: Columns (4) have mixed types.Specify dtype option on import or set low_memory=False.\n",
      "  exec(code_obj, self.user_global_ns, self.user_ns)\n"
     ]
    },
    {
     "data": {
      "text/html": [
       "<div>\n",
       "<style scoped>\n",
       "    .dataframe tbody tr th:only-of-type {\n",
       "        vertical-align: middle;\n",
       "    }\n",
       "\n",
       "    .dataframe tbody tr th {\n",
       "        vertical-align: top;\n",
       "    }\n",
       "\n",
       "    .dataframe thead th {\n",
       "        text-align: right;\n",
       "    }\n",
       "</style>\n",
       "<table border=\"1\" class=\"dataframe\">\n",
       "  <thead>\n",
       "    <tr style=\"text-align: right;\">\n",
       "      <th></th>\n",
       "      <th>Country</th>\n",
       "      <th>Admin1</th>\n",
       "      <th>SubDiv</th>\n",
       "      <th>Year</th>\n",
       "      <th>List</th>\n",
       "      <th>Cause</th>\n",
       "      <th>Sex</th>\n",
       "      <th>Frmat</th>\n",
       "      <th>IM_Frmat</th>\n",
       "      <th>Deaths1</th>\n",
       "      <th>...</th>\n",
       "      <th>Deaths21</th>\n",
       "      <th>Deaths22</th>\n",
       "      <th>Deaths23</th>\n",
       "      <th>Deaths24</th>\n",
       "      <th>Deaths25</th>\n",
       "      <th>Deaths26</th>\n",
       "      <th>IM_Deaths1</th>\n",
       "      <th>IM_Deaths2</th>\n",
       "      <th>IM_Deaths3</th>\n",
       "      <th>IM_Deaths4</th>\n",
       "    </tr>\n",
       "  </thead>\n",
       "  <tbody>\n",
       "    <tr>\n",
       "      <th>0</th>\n",
       "      <td>1125</td>\n",
       "      <td>NaN</td>\n",
       "      <td>NaN</td>\n",
       "      <td>2000</td>\n",
       "      <td>103</td>\n",
       "      <td>A00</td>\n",
       "      <td>1</td>\n",
       "      <td>2</td>\n",
       "      <td>8</td>\n",
       "      <td>2</td>\n",
       "      <td>...</td>\n",
       "      <td>0</td>\n",
       "      <td>0.0</td>\n",
       "      <td>0.0</td>\n",
       "      <td>NaN</td>\n",
       "      <td>NaN</td>\n",
       "      <td>0</td>\n",
       "      <td>0</td>\n",
       "      <td>NaN</td>\n",
       "      <td>NaN</td>\n",
       "      <td>NaN</td>\n",
       "    </tr>\n",
       "    <tr>\n",
       "      <th>1</th>\n",
       "      <td>1125</td>\n",
       "      <td>NaN</td>\n",
       "      <td>NaN</td>\n",
       "      <td>2000</td>\n",
       "      <td>103</td>\n",
       "      <td>A01</td>\n",
       "      <td>1</td>\n",
       "      <td>2</td>\n",
       "      <td>8</td>\n",
       "      <td>27</td>\n",
       "      <td>...</td>\n",
       "      <td>0</td>\n",
       "      <td>0.0</td>\n",
       "      <td>1.0</td>\n",
       "      <td>NaN</td>\n",
       "      <td>NaN</td>\n",
       "      <td>0</td>\n",
       "      <td>8</td>\n",
       "      <td>NaN</td>\n",
       "      <td>NaN</td>\n",
       "      <td>NaN</td>\n",
       "    </tr>\n",
       "    <tr>\n",
       "      <th>2</th>\n",
       "      <td>1125</td>\n",
       "      <td>NaN</td>\n",
       "      <td>NaN</td>\n",
       "      <td>2000</td>\n",
       "      <td>103</td>\n",
       "      <td>A02</td>\n",
       "      <td>1</td>\n",
       "      <td>2</td>\n",
       "      <td>8</td>\n",
       "      <td>3</td>\n",
       "      <td>...</td>\n",
       "      <td>0</td>\n",
       "      <td>0.0</td>\n",
       "      <td>1.0</td>\n",
       "      <td>NaN</td>\n",
       "      <td>NaN</td>\n",
       "      <td>0</td>\n",
       "      <td>1</td>\n",
       "      <td>NaN</td>\n",
       "      <td>NaN</td>\n",
       "      <td>NaN</td>\n",
       "    </tr>\n",
       "  </tbody>\n",
       "</table>\n",
       "<p>3 rows × 39 columns</p>\n",
       "</div>"
      ],
      "text/plain": [
       "   Country  Admin1  SubDiv  Year List Cause  Sex  Frmat  IM_Frmat  Deaths1  \\\n",
       "0     1125     NaN     NaN  2000  103   A00    1      2         8        2   \n",
       "1     1125     NaN     NaN  2000  103   A01    1      2         8       27   \n",
       "2     1125     NaN     NaN  2000  103   A02    1      2         8        3   \n",
       "\n",
       "   ...  Deaths21  Deaths22  Deaths23  Deaths24  Deaths25  Deaths26  \\\n",
       "0  ...         0       0.0       0.0       NaN       NaN         0   \n",
       "1  ...         0       0.0       1.0       NaN       NaN         0   \n",
       "2  ...         0       0.0       1.0       NaN       NaN         0   \n",
       "\n",
       "   IM_Deaths1  IM_Deaths2  IM_Deaths3  IM_Deaths4  \n",
       "0           0         NaN         NaN         NaN  \n",
       "1           8         NaN         NaN         NaN  \n",
       "2           1         NaN         NaN         NaN  \n",
       "\n",
       "[3 rows x 39 columns]"
      ]
     },
     "execution_count": 29,
     "metadata": {},
     "output_type": "execute_result"
    }
   ],
   "source": [
    "df = pd.read_csv(Path(datadir, 'Morticd10_part1'))\n",
    "df.head(3)"
   ]
  },
  {
   "cell_type": "code",
   "execution_count": 30,
   "id": "b978e2b8",
   "metadata": {},
   "outputs": [
    {
     "data": {
      "text/plain": [
       "0          2000\n",
       "1          2000\n",
       "2          2000\n",
       "3          2000\n",
       "4          2000\n",
       "           ... \n",
       "1021813    2002\n",
       "1021814    2002\n",
       "1021815    2002\n",
       "1021816    2002\n",
       "1021817    2002\n",
       "Name: Year, Length: 1021818, dtype: int64"
      ]
     },
     "execution_count": 30,
     "metadata": {},
     "output_type": "execute_result"
    }
   ],
   "source": [
    "df['Year']"
   ]
  },
  {
   "cell_type": "markdown",
   "id": "08fdc933",
   "metadata": {},
   "source": [
    "#### Column names & their definitions:\n",
    "\n",
    "**Country**: the country code, as defined in part 2.<br>\n",
    "**Admin1**: specified pertinent. If blank, data refers to the country.<br>\n",
    "**SubDiv**: Category of data, Annex Table 2 in the manual. If blank, data refers to the country.<br>\n",
    "**Year**: The year to which data refer.<br>\n",
    "**List**: List of ICD revision used, see Annex Table 2 in the manual.<br>\n",
    "**Cause**: Code of Cause of Death.<br>\n",
    "**Sex**: categorical value where 1 is male, 2 is female, and 9 is unspecified.<br>\n",
    "**Frmat**: Age-group format breakdown of deaths, see Annex Table 1 in the manual.<br>\n",
    "**IM_Frmat**: Age format for breakdown of infant deaths (0 year). see Annex Table 1 in the manual.<br>\n",
    "**Deaths1**: Deaths at all ages.<br>\n",
    "**Deaths2**: Deaths at age 0.<br>\n",
    "**Deaths3**: Deaths at age 1.<br>\n",
    "**Deaths4**: Deaths at age 2.<br>\n",
    "**Deaths5**: Deaths at age 3.<br>\n",
    "**Deaths6**: Deaths at age 4.<br>\n",
    "**Deaths7**: Deaths at age 5-9.<br>\n",
    "**Deaths8**: Deaths at age 10-14.<br>\n",
    "**Deaths9**: Deaths at age 15-19.<br>\n",
    "**Deaths10**: Deaths at age 20-24.<br>\n",
    "**Deaths11**: Deaths at age 25-29.<br>\n",
    "**Deaths12**: Deaths at age 30-34.<br>\n",
    "**Deaths13**: Deaths at age 35-39.<br>\n",
    "**Deaths14**: Deaths at age 40-44.<br>\n",
    "**Deaths15**: Deaths at age 45-49.<br>\n",
    "**Deaths16**: Deaths at age 50-54.<br>\n",
    "**Deaths17**: Deaths at age 55-59.<br>\n",
    "**Deaths18**: Deaths at age 60-64.<br>\n",
    "**Deaths19**: Deaths at age 65-69.<br>\n",
    "**Deaths20**: Deaths at age 70-74.<br>\n",
    "**Deaths21**: Deaths at age 75-79.<br>\n",
    "**Deaths22**: Deaths at age 80-84.<br>\n",
    "**Deaths23**: Deaths at age 85-89.<br>\n",
    "**Deaths24**: Deaths at age 90-94.<br>\n",
    "**Deaths25**: Deaths at age 95 years and above<br>\n",
    "**Deaths26**: Deaths at age unspecified<br>\n",
    "**IM_Deaths1**: Infant deaths at age 0 day<br>\n",
    "**IM_Deaths2**: Infant deaths at age 1-6 days<br>\n",
    "**IM_Deaths3**: Infant deaths at age 7-27 days<br>\n",
    "**IM_Deaths4**: Infant deaths at age 28-364 days<br>\n"
   ]
  },
  {
   "cell_type": "markdown",
   "id": "42d30a8c",
   "metadata": {},
   "source": [
    "## ii) Characteristics of Values\n",
    "Based on the description of the columns above, the following Factors are important for further analysis:\n",
    "- General\n",
    "- Year\n",
    "- List\n",
    "- Sex\n",
    "- Cause\n",
    "- Deaths1"
   ]
  },
  {
   "cell_type": "markdown",
   "id": "dc497525",
   "metadata": {},
   "source": [
    "As the data consists of 5 part, they should be concatenated."
   ]
  },
  {
   "cell_type": "code",
   "execution_count": 31,
   "id": "de738257",
   "metadata": {},
   "outputs": [
    {
     "name": "stderr",
     "output_type": "stream",
     "text": [
      "C:\\Users\\ddlat\\anaconda3\\lib\\site-packages\\IPython\\core\\interactiveshell.py:3444: DtypeWarning: Columns (4) have mixed types.Specify dtype option on import or set low_memory=False.\n",
      "  exec(code_obj, self.user_global_ns, self.user_ns)\n",
      "C:\\Users\\ddlat\\anaconda3\\lib\\site-packages\\IPython\\core\\interactiveshell.py:3444: DtypeWarning: Columns (2) have mixed types.Specify dtype option on import or set low_memory=False.\n",
      "  exec(code_obj, self.user_global_ns, self.user_ns)\n"
     ]
    }
   ],
   "source": [
    "df1 = pd.read_csv(Path(datadir, 'Morticd10_part1'))\n",
    "df2 = pd.read_csv(Path(datadir, 'Morticd10_part2'))\n",
    "df3 = pd.read_csv(Path(datadir, 'Morticd10_part3'))\n",
    "df4 = pd.read_csv(Path(datadir, 'Morticd10_part4'))\n",
    "df5 = pd.read_csv(Path(datadir, 'Morticd10_part5'))\n",
    "\n",
    "data = [df1, df2, df3, df4, df5]"
   ]
  },
  {
   "cell_type": "code",
   "execution_count": 32,
   "id": "db7f88a1",
   "metadata": {},
   "outputs": [],
   "source": [
    "# select The Netherlands\n",
    "for i, d in enumerate(data):\n",
    "    data[i] = d[d['Country'] == 4210]"
   ]
  },
  {
   "cell_type": "code",
   "execution_count": 33,
   "id": "35a5b59b",
   "metadata": {},
   "outputs": [],
   "source": [
    "# concatenate them into one\n",
    "df = pd.concat(data).sort_values('Year')"
   ]
  },
  {
   "cell_type": "markdown",
   "id": "b3eee647",
   "metadata": {},
   "source": [
    "#### General"
   ]
  },
  {
   "cell_type": "code",
   "execution_count": 34,
   "id": "f3dffef5",
   "metadata": {},
   "outputs": [
    {
     "data": {
      "text/plain": [
       "(72376, 39)"
      ]
     },
     "execution_count": 34,
     "metadata": {},
     "output_type": "execute_result"
    }
   ],
   "source": [
    "df.shape"
   ]
  },
  {
   "cell_type": "code",
   "execution_count": 35,
   "id": "1e3b69bb",
   "metadata": {},
   "outputs": [
    {
     "data": {
      "text/plain": [
       "72376"
      ]
     },
     "execution_count": 35,
     "metadata": {},
     "output_type": "execute_result"
    }
   ],
   "source": [
    "df[df['Sex'] == 1].shape[0] + df[df['Sex'] == 2].shape[0]"
   ]
  },
  {
   "cell_type": "code",
   "execution_count": 36,
   "id": "019cc950",
   "metadata": {},
   "outputs": [
    {
     "data": {
      "text/plain": [
       "Country           0\n",
       "Admin1        72376\n",
       "SubDiv        72376\n",
       "Year              0\n",
       "List              0\n",
       "Cause             0\n",
       "Sex               0\n",
       "Frmat             0\n",
       "IM_Frmat          0\n",
       "Deaths1           0\n",
       "Deaths2           0\n",
       "Deaths3           0\n",
       "Deaths4           0\n",
       "Deaths5           0\n",
       "Deaths6           0\n",
       "Deaths7           0\n",
       "Deaths8           0\n",
       "Deaths9           0\n",
       "Deaths10          0\n",
       "Deaths11          0\n",
       "Deaths12          0\n",
       "Deaths13          0\n",
       "Deaths14          0\n",
       "Deaths15          0\n",
       "Deaths16          0\n",
       "Deaths17          0\n",
       "Deaths18          0\n",
       "Deaths19          0\n",
       "Deaths20          0\n",
       "Deaths21          0\n",
       "Deaths22          0\n",
       "Deaths23          0\n",
       "Deaths24          0\n",
       "Deaths25          0\n",
       "Deaths26          0\n",
       "IM_Deaths1        0\n",
       "IM_Deaths2     6512\n",
       "IM_Deaths3     6512\n",
       "IM_Deaths4     6512\n",
       "dtype: int64"
      ]
     },
     "execution_count": 36,
     "metadata": {},
     "output_type": "execute_result"
    }
   ],
   "source": [
    "df.isna().sum()"
   ]
  },
  {
   "cell_type": "markdown",
   "id": "2cf9695d",
   "metadata": {},
   "source": [
    "The columns that are important do not have missing values."
   ]
  },
  {
   "cell_type": "markdown",
   "id": "4012c8b8",
   "metadata": {},
   "source": [
    "#### Year"
   ]
  },
  {
   "cell_type": "code",
   "execution_count": 37,
   "id": "bbacf003",
   "metadata": {},
   "outputs": [
    {
     "data": {
      "text/plain": [
       "dtype('int64')"
      ]
     },
     "execution_count": 37,
     "metadata": {},
     "output_type": "execute_result"
    }
   ],
   "source": [
    "df['Year'].dtype"
   ]
  },
  {
   "cell_type": "code",
   "execution_count": 38,
   "id": "153c6315",
   "metadata": {},
   "outputs": [
    {
     "data": {
      "text/plain": [
       "array([1996, 1997, 1998, 1999, 2000, 2001, 2002, 2003, 2004, 2005, 2006,\n",
       "       2007, 2008, 2009, 2010, 2011, 2012, 2013, 2014, 2015, 2016, 2017,\n",
       "       2018], dtype=int64)"
      ]
     },
     "execution_count": 38,
     "metadata": {},
     "output_type": "execute_result"
    }
   ],
   "source": [
    "df['Year'].unique()"
   ]
  },
  {
   "cell_type": "code",
   "execution_count": 39,
   "id": "8be2d372",
   "metadata": {},
   "outputs": [
    {
     "name": "stdout",
     "output_type": "stream",
     "text": [
      "The years range from 1996 to 2018.\n"
     ]
    }
   ],
   "source": [
    "# Check the lowest and highest year\n",
    "min_y = df['Year'].min()\n",
    "max_y = df['Year'].max()\n",
    "\n",
    "# Check if the years are sequential\n",
    "if (np.arange(min_y, max_y + 1) == df['Year'].unique()).all():\n",
    "    print('The years range from {} to {}.'.format(min_y, max_y))\n",
    "else:\n",
    "    print('THE YEARS ARE NOT SEQUENTIAL. THERE ARE MISSING YEARS!')"
   ]
  },
  {
   "cell_type": "markdown",
   "id": "ad484dd8",
   "metadata": {},
   "source": [
    "#### List\n",
    "\n",
    "List of ICD revision used, see Annex Table 2 in the manual."
   ]
  },
  {
   "cell_type": "code",
   "execution_count": 40,
   "id": "eb8628d5",
   "metadata": {},
   "outputs": [
    {
     "data": {
      "text/plain": [
       "dtype('O')"
      ]
     },
     "execution_count": 40,
     "metadata": {},
     "output_type": "execute_result"
    }
   ],
   "source": [
    "df['List'].dtype"
   ]
  },
  {
   "cell_type": "code",
   "execution_count": 41,
   "id": "8335ad55",
   "metadata": {},
   "outputs": [
    {
     "data": {
      "text/plain": [
       "array(['10M', '104', 104], dtype=object)"
      ]
     },
     "execution_count": 41,
     "metadata": {},
     "output_type": "execute_result"
    }
   ],
   "source": [
    "df['List'].unique()"
   ]
  },
  {
   "cell_type": "markdown",
   "id": "4e13adb8",
   "metadata": {},
   "source": [
    "`104` is saved as two seperate datatypes, namely as an `int` and a `str`. Therefore, convert the column to type `str`."
   ]
  },
  {
   "cell_type": "markdown",
   "id": "6814f81f",
   "metadata": {},
   "source": [
    "Two types of revisions are used, namelijk the `10M` and `104` revision. The revisions have the following description according to the documentation:\n",
    "- `10M`: CD10 3 and 4 (detailed) character list. Pls note that when a 4th character code is given it is therefore not included in a 3 character code. All records are mutually exclusive.\n",
    "- `104`: ICD10 4  (detailed) character list"
   ]
  },
  {
   "cell_type": "markdown",
   "id": "7c2278c7",
   "metadata": {},
   "source": [
    "#### Sex\n",
    "\n",
    "categorical value where 1 is male, 2 is female, and 9 is unspecified."
   ]
  },
  {
   "cell_type": "code",
   "execution_count": 42,
   "id": "03dd5aa3",
   "metadata": {},
   "outputs": [
    {
     "data": {
      "text/plain": [
       "dtype('float64')"
      ]
     },
     "execution_count": 42,
     "metadata": {},
     "output_type": "execute_result"
    }
   ],
   "source": [
    "df['Sex'].dtype"
   ]
  },
  {
   "cell_type": "code",
   "execution_count": 43,
   "id": "292c7ef1",
   "metadata": {},
   "outputs": [
    {
     "data": {
      "text/plain": [
       "array([1., 2.])"
      ]
     },
     "execution_count": 43,
     "metadata": {},
     "output_type": "execute_result"
    }
   ],
   "source": [
    "df['Sex'].unique()"
   ]
  },
  {
   "cell_type": "markdown",
   "id": "5bf4d2e0",
   "metadata": {},
   "source": [
    "The Netherlands has data for male and female sexes."
   ]
  },
  {
   "cell_type": "markdown",
   "id": "50b87f0f",
   "metadata": {},
   "source": [
    "#### Cause\n",
    "\n",
    "Code of Cause of Death.\n",
    "\n",
    "These codes can be found in the ICD"
   ]
  },
  {
   "cell_type": "code",
   "execution_count": 44,
   "id": "dec84548",
   "metadata": {},
   "outputs": [
    {
     "data": {
      "text/plain": [
       "dtype('O')"
      ]
     },
     "execution_count": 44,
     "metadata": {},
     "output_type": "execute_result"
    }
   ],
   "source": [
    "df['Cause'].dtype"
   ]
  },
  {
   "cell_type": "code",
   "execution_count": 45,
   "id": "57b51432",
   "metadata": {},
   "outputs": [
    {
     "data": {
      "text/plain": [
       "5243"
      ]
     },
     "execution_count": 45,
     "metadata": {},
     "output_type": "execute_result"
    }
   ],
   "source": [
    "df['Cause'].unique().size"
   ]
  },
  {
   "cell_type": "markdown",
   "id": "a7b53545",
   "metadata": {},
   "source": [
    "There are in total 5243 reported causes of death. Only the noncommunicable diseases are relevant to answer the research question. \n",
    "\n",
    "Code source for noncommunicable disease: https://www.euro.who.int/__data/assets/pdf_file/0007/350278/Fact-sheet-SDG-NCD-FINAL-25-10-17.pdf\n",
    "\n",
    "In fact, a non-communicable disease may also be defined as a non-transmissible disease. This disease can be chronic or acute. In this research the focus is on chronic non-comunicable diseases that causes relatively the highest mortality rates.\n",
    "\n",
    "It is not clearly defined when a disease is chronic or not. For this reason, all diseases that are specifically annotated as 'Acute' are left out.\n",
    "\n",
    "The diseases have the following codes:\n",
    "- Cardiovascular disease: ICD-10 codes `I05-I99`\n",
    "- Cancer: ICD-10 codes `C00-C97`\n",
    "- Diabetes mellitus: ICD-10 codes `E10-E13`\n",
    "- Chronic respiratory diseases: ICD-10 codes `J40-47`\n",
    "- Diseases of digestive system: ICD-10 codes `K00-K93`\n",
    "\n",
    "The codes are formatted with 3 characters or 4 characters. In this case, we only need the first 3 characters."
   ]
  },
  {
   "cell_type": "code",
   "execution_count": 46,
   "id": "6b0a8c05",
   "metadata": {},
   "outputs": [],
   "source": [
    "def generate_ICD_codes(lower, upper, symbol):\n",
    "    codes = []\n",
    "    for i in range(lower, upper+1, 1):\n",
    "        if i < 10:\n",
    "            codes.append(f'{symbol}0{i}')\n",
    "        else:\n",
    "            codes.append(f'{symbol}{i}')\n",
    "            \n",
    "    return np.array(codes)\n",
    "\n",
    "def get_unique_codes(df, symbol, column_name='Cause'):\n",
    "    return list(df[df[column_name].str.contains(symbol)][column_name].unique())\n",
    "\n",
    "def test_codes(codes):\n",
    "    \"\"\"Some codes can have ascii symbols, but first test if they are integer only.\n",
    "    That makes the code somewhat easier.\"\"\"\n",
    "    # remove the first symbol\n",
    "    codes = [code[1:] for code in codes]\n",
    "    \n",
    "    try:\n",
    "        [int(code) for code in codes]\n",
    "        print('Codes are valid.')\n",
    "    except ValueError as e:\n",
    "        print('Expected integers: ', e)\n",
    "    except:\n",
    "        print('Something else went wrong.')\n",
    "        \n",
    "def convert_format(series, n):\n",
    "    \"\"\"Only keep the n first characters of the column\"\"\"\n",
    "    return series.apply(lambda x: x[:3])\n",
    "\n",
    "def find_codes(codes, series):\n",
    "    mask = np.isin(codes, series)\n",
    "    found = np.where(mask, codes, '')\n",
    "    valid = [c for c in found if c != '']\n",
    "    \n",
    "    return valid\n",
    "\n",
    "C_codes = generate_ICD_codes(0, 97, 'C')\n",
    "I_codes = generate_ICD_codes(5, 99, 'I')\n",
    "E_codes = generate_ICD_codes(10, 13, 'E')\n",
    "J_codes = generate_ICD_codes(40, 47, 'J')\n",
    "K_codes = generate_ICD_codes(0, 93, 'K')\n",
    "\n",
    "causes_3 = convert_format(df['Cause'], 3)\n",
    "causes_3 = causes_3.unique()"
   ]
  },
  {
   "cell_type": "markdown",
   "id": "f5c99444",
   "metadata": {},
   "source": [
    "**Cancer**"
   ]
  },
  {
   "cell_type": "code",
   "execution_count": 47,
   "id": "464edfdd",
   "metadata": {},
   "outputs": [
    {
     "name": "stdout",
     "output_type": "stream",
     "text": [
      "Codes are valid.\n"
     ]
    }
   ],
   "source": [
    "data_C_codes = get_unique_codes(df, 'C')\n",
    "\n",
    "test_codes(data_C_codes)"
   ]
  },
  {
   "cell_type": "code",
   "execution_count": 48,
   "id": "7a87ac2f",
   "metadata": {},
   "outputs": [
    {
     "name": "stdout",
     "output_type": "stream",
     "text": [
      "Found in total 86 codes of 98 possible codes for cancer.\n"
     ]
    }
   ],
   "source": [
    "# Codes belonging to cancer\n",
    "C_N = C_codes.size \n",
    "\n",
    "C_valid = find_codes(C_codes, causes_3)\n",
    "\n",
    "print(\"Found in total {} codes of {} possible codes for cancer.\".format(len(C_valid), C_N))"
   ]
  },
  {
   "cell_type": "markdown",
   "id": "bc935a17",
   "metadata": {},
   "source": [
    "**Cardiovascular disease**"
   ]
  },
  {
   "cell_type": "code",
   "execution_count": 49,
   "id": "e54d0375",
   "metadata": {},
   "outputs": [
    {
     "name": "stdout",
     "output_type": "stream",
     "text": [
      "Codes are valid.\n"
     ]
    }
   ],
   "source": [
    "data_I_codes = get_unique_codes(df, 'I')\n",
    "\n",
    "test_codes(data_I_codes)"
   ]
  },
  {
   "cell_type": "code",
   "execution_count": 50,
   "id": "dec11832",
   "metadata": {},
   "outputs": [
    {
     "name": "stdout",
     "output_type": "stream",
     "text": [
      "Found in total 61 codes of 95 possible codes for cardiovascular disease.\n"
     ]
    }
   ],
   "source": [
    "I_N = I_codes.size\n",
    "\n",
    "valid = find_codes(I_codes, causes_3)\n",
    "\n",
    "print(\"Found in total {} codes of {} possible codes for cardiovascular disease.\".format(len(valid), I_N))"
   ]
  },
  {
   "cell_type": "markdown",
   "id": "ba348999",
   "metadata": {},
   "source": [
    "**Diabetes mellitus: ICD-10 codes E10-E13**"
   ]
  },
  {
   "cell_type": "code",
   "execution_count": 51,
   "id": "c58491d3",
   "metadata": {},
   "outputs": [
    {
     "name": "stdout",
     "output_type": "stream",
     "text": [
      "Codes are valid.\n"
     ]
    }
   ],
   "source": [
    "data_E_codes = get_unique_codes(df, 'E')\n",
    "\n",
    "test_codes(data_E_codes)"
   ]
  },
  {
   "cell_type": "code",
   "execution_count": 52,
   "id": "c1faa932",
   "metadata": {},
   "outputs": [
    {
     "name": "stdout",
     "output_type": "stream",
     "text": [
      "Found in total 4 codes of 4 possible codes for diabetes mellitus.\n"
     ]
    }
   ],
   "source": [
    "E_N = E_codes.size\n",
    "\n",
    "valid = find_codes(E_codes, causes_3)\n",
    "\n",
    "print(\"Found in total {} codes of {} possible codes for diabetes mellitus.\".format(len(valid), E_N))"
   ]
  },
  {
   "cell_type": "markdown",
   "id": "65bbf7e3",
   "metadata": {},
   "source": [
    "**Chronic respiratory diseases: ICD-10 codes J40-47**"
   ]
  },
  {
   "cell_type": "code",
   "execution_count": 53,
   "id": "11a7203c",
   "metadata": {},
   "outputs": [
    {
     "name": "stdout",
     "output_type": "stream",
     "text": [
      "Codes are valid.\n"
     ]
    }
   ],
   "source": [
    "data_J_codes = get_unique_codes(df, 'J')\n",
    "\n",
    "test_codes(data_J_codes)"
   ]
  },
  {
   "cell_type": "code",
   "execution_count": 54,
   "id": "cca4961c",
   "metadata": {},
   "outputs": [
    {
     "name": "stdout",
     "output_type": "stream",
     "text": [
      "Found in total 8 codes of 8 possible codes for chronic respiratory diseases.\n"
     ]
    }
   ],
   "source": [
    "J_N = J_codes.size\n",
    "\n",
    "valid = find_codes(J_codes, causes_3)\n",
    "\n",
    "print(\"Found in total {} codes of {} possible codes for chronic respiratory diseases.\".format(len(valid), J_N))"
   ]
  },
  {
   "cell_type": "markdown",
   "id": "b9f8ac44",
   "metadata": {},
   "source": [
    "**Diseases of digestive system: ICD-10 codes K00-K93**"
   ]
  },
  {
   "cell_type": "code",
   "execution_count": 55,
   "id": "68fc9719",
   "metadata": {},
   "outputs": [
    {
     "name": "stdout",
     "output_type": "stream",
     "text": [
      "Codes are valid.\n"
     ]
    }
   ],
   "source": [
    "data_K_codes = get_unique_codes(df, 'K')\n",
    "\n",
    "test_codes(data_K_codes)"
   ]
  },
  {
   "cell_type": "code",
   "execution_count": 56,
   "id": "c41d3788",
   "metadata": {},
   "outputs": [
    {
     "name": "stdout",
     "output_type": "stream",
     "text": [
      "Found in total 64 codes of 94 possible codes for diseases of digestive system.\n"
     ]
    }
   ],
   "source": [
    "K_N = K_codes.size\n",
    "\n",
    "valid = find_codes(K_codes, causes_3)\n",
    "\n",
    "print(\"Found in total {} codes of {} possible codes for diseases of digestive system.\".format(len(valid), K_N))"
   ]
  },
  {
   "cell_type": "markdown",
   "id": "90534e9b",
   "metadata": {},
   "source": [
    "------------\n",
    "**CONCLUSION**:\n",
    "\n",
    "Every year consists of two rows, namely:\n",
    "- Row 1 represents the male population.\n",
    "- Row 2 represents the female population.\n",
    "\n",
    "The years range from 1996 to 2018.\n",
    "\n",
    "'Sex' consists of a mapping: 1 -> Male, 2 -> Female.\n",
    "\n",
    "There are:\n",
    "- 86 registered codes for cancer.\n",
    "- 61 registered codes for cardiovascular disease.\n",
    "- 4 registered codes for diabetes mellitus.\n",
    "- 8 registered codes for chronic respiratory diseases.\n",
    "- 64 registered codes for diseases of digestive system.\n",
    "--------"
   ]
  },
  {
   "cell_type": "code",
   "execution_count": null,
   "id": "1c78e58c",
   "metadata": {},
   "outputs": [],
   "source": []
  }
 ],
 "metadata": {
  "kernelspec": {
   "display_name": "Python 3 (ipykernel)",
   "language": "python",
   "name": "python3"
  },
  "language_info": {
   "codemirror_mode": {
    "name": "ipython",
    "version": 3
   },
   "file_extension": ".py",
   "mimetype": "text/x-python",
   "name": "python",
   "nbconvert_exporter": "python",
   "pygments_lexer": "ipython3",
   "version": "3.9.7"
  }
 },
 "nbformat": 4,
 "nbformat_minor": 5
}
